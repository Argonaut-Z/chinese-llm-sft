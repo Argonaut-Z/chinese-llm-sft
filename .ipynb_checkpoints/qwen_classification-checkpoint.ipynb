{
 "cells": [
  {
   "cell_type": "markdown",
   "metadata": {},
   "source": [
    "# Chinese_llm_sft实践"
   ]
  },
  {
   "cell_type": "markdown",
   "metadata": {},
   "source": [
    "## 文本分类"
   ]
  },
  {
   "cell_type": "markdown",
   "metadata": {},
   "source": [
    "### 1. 数据预处理\n",
    "将train.jsonl和test.jsonl进行处理，转换成new_train.jsonl和new_test.jsonl\n",
    "\n",
    "原始数据示例如下：\n",
    "```json\n",
    "{\"text\": \"０２２民事 ０１０２建设 工程 勘察 设计 合同 条例（１９８３ 年 ８月 ８ 日 国务院 发布 ）第 一 条    根据 《 中华人民共和国 经济 合同 法 》 的 有关 规定 ，结合 实行 建设 工程 勘察 设计 合同 制 的 经验 ， 特 制定 本 条例 。第 二 条建设 工程 勘察 设计 合同 是 委托 方 与 承包 方 为 完成 一定 的 勘察 设计 任务 ，明确 相互 权利 义务 关系 的 协议 。第 三 条    建设 工程 勘察 设计 合同 的 双方 必须 具有 法人 地位 。委托 方 是 建设 单位 或 有关 单位 ， 承包 方 是 持有 勘察 设计 证书 的 勘察设计 单位 。第 四 条    建设 工程 勘察 设计 合同 ， 必须 符合 国家 规定 的 基本建设程序 。勘察 合同 ， 由 建设 单位 、 设计 单位 或 有关 单位 提出 委托 ，经 双方 同意 即 可 签订 。设计 合同 ， 须 具有 上级 机关 批准 的 设计 任务 书 方 能 签订 。小型 单项 工程 须 具有 上级 机关 批准 的 文件 方 能 签订 。 如 单独 委托施工图 设计 任务  应 同时 具有 经 有关 部门 批准 的 初步 设计 文件 方 能签订 。第 五 条    勘察 设计 合同 应 具备 以下 主要 条款 ：一 、 建设 工程 名称 、 规模 、 投资额 、 建设 地点 。二 、 委托 方 提供 资料 的 内容 、 技术 要求 及 期限 。承包 方 勘察 的 范围 、 进度 和 质量 ； 设计 的 阶段 、 进度 、质量 和 设计 文件 份 数 。三 、 勘察 、 设计 取 费 的 依据 ， 取 费 标准 及 拨付 办法 。四 、 违约 责任 。第 六 条    勘察 设计 合同 在 当事人 双方 经过 协商 取得 一致 意见 ，由 双方 负责人 或 指定 的 代表 签字 并 加 盖 公章 后 ， 方 为 有效 。第 七 条    按 规定 收取 费用 的 勘察 设计 合同 生效 后 ，委托 方 应 向 承包 方 付 给 定金 。 勘察 设计 合同 履行 后 ， 定金 抵 作 勘察、 设计 费  勘察 任务 的 定金 为 勘察 费 的 ３０％， 设计 任务 的 定金 为估算 的 设计 费 的 ２０％。委托 方 不 履行 合同 的 ， 无权 请求 返还 定金 。 承包 方 不 履行 合同 的应当 双 倍 返还 定金 。第 八 条    一般 建设 工程 （ 特殊 专业 工程 除外 ） 勘察 设计 合同 双方的 责任 是 ：一 、 委托 方１． 向 承包 方 提供 开展 勘察 设计 工作 所 需 的 有关 基础 资料 ，并 对 提供 的 时间 、 进度 与 资料 的 可靠 性 负责 。委托 勘察 工作 的 ， 在 勘察 工作 开展 前 ， 应 提出 勘察 技术 要求 及附图 。委托 初步 设计 的 ， 在 初步 设计 前 ， 应 提供 经过 批准 的 设计 任务书 、 选 厂 报告 ， 以及 原料 （ 或 经过 批准 的 资源 报告 ）、 燃料 、 水 、电  运输 等 方面 的 协议 文件 和 能 满足 初步 设计 要求 的 勘察 资料 、 需要经过 科研 取得 的 技术 资料 。委托 施工图 设计 的 ， 在 施工图 设计 前 ， 应 提供 经过 批准 的 初步设计 文件 和 能 满足 施工图 设计 要求 的 勘察 资料 、 施工 条件 ， 以及 有关设备 的 技术 资料 。２． 在 勘察 设计 人员 进入 现场 作业 或 配合 施工 时 ，应 负责 提供 必要 的 工作 和 生活 条件 。３． 委托 配合 引进 项目 的 设计 任务 ， 从 询 价 、 对外 谈判 、国 内外 技术 考察 直至 建成 投产 的 各 阶段 ， 应 吸收 承担 有关 设计 任务的 单位 参加 。４． 按照 国家 有关 规定 付 给 勘察 设计 费 。     ５． 维护 承包 方 的 勘察 成果 和 设计 文件 ， 不得 擅自 修改 ，不得 转让 给 第 三 方 重复 使用 。二 、 承包 方１． 勘察 单位 应 按照 现行 的 标准 、 规范 、 规程 和 技术 条例 ， 进行工程 测量 、 工程 地质 、 水文 地质 等 勘察 工作 ， 并 按 合同 规定 的 进度 、质量 提交 勘察 成果 。\", \"category\": [\"Philosophy\", \"Art\", \"Sports\", \"Communication\", \"Law\", \"Agriculture\", \"Enviornment\", \"Energy\", \"History\", \"Medical\", \"Computer\", \"Literature\", \"Transport\", \"Space\", \"Electronics\", \"Politics\", \"Military\"], \"output\": \"Law\"}"
   ]
  },
  {
   "cell_type": "code",
   "execution_count": 1,
   "metadata": {},
   "outputs": [],
   "source": [
    "import json\n",
    "import pandas as pd\n",
    "import os\n",
    "\n",
    "def dataset_jsonl_transfer(origin_path, new_path):\n",
    "    \"\"\"\n",
    "    将原始数据集转换为大模型微调所需的数据格式的新数据集\n",
    "    \"\"\"\n",
    "    messages = []\n",
    "    \n",
    "    # 读取旧的JSONL文件\n",
    "    with open(origin_path, 'r', encoding='utf-8') as file:\n",
    "        for line in file:\n",
    "            # 解析每一行的json数据\n",
    "            data = json.loads(line)\n",
    "            context = data[\"text\"]\n",
    "            catagory = data[\"category\"]\n",
    "            label = data[\"output\"]\n",
    "            message = {\n",
    "                \"instruction\": \"你是一个文本分类领域的专家，你会接收到一段文本和几个潜在的分类选项，请输出文本内容的正确类型\",\n",
    "                \"input\": f\"文本:{context}, 类型选项:{catagory}\",\n",
    "                \"output\": label,\n",
    "            }\n",
    "            messages.append(message)\n",
    "    \n",
    "    # 保存重构后的JSONL文件\n",
    "    with open(new_path, \"w\", encoding=\"utf-8\") as file:\n",
    "        for message in messages:\n",
    "            file.write(json.dumps(message, ensure_ascii=False) + \"\\n\")\n",
    "\n",
    "# 加载、处理训练数据集和测试数据集\n",
    "train_dataset_path = 'data/zh_cls_fudan-news/train.jsonl'\n",
    "test_dataset_path = 'data/zh_cls_fudan-news/test.jsonl'\n",
    "\n",
    "train_jsonl_new_path = 'data/zh_cls_fudan-news/new_train.jsonl'\n",
    "test_jsonl_new_path = 'data/zh_cls_fudan-news/new_test.jsonl'\n",
    "\n",
    "if not os.path.exists(train_jsonl_new_path):\n",
    "    dataset_jsonl_transfer(train_dataset_path, train_jsonl_new_path)\n",
    "if not os.path.exists(test_jsonl_new_path):\n",
    "    dataset_jsonl_transfer(test_dataset_path, test_jsonl_new_path)          "
   ]
  },
  {
   "cell_type": "markdown",
   "metadata": {},
   "source": [
    "### 2. 数据加载和模型构建"
   ]
  },
  {
   "cell_type": "markdown",
   "metadata": {},
   "source": [
    "#### 2.1 初始化模型和分词器"
   ]
  },
  {
   "cell_type": "code",
   "execution_count": 2,
   "metadata": {},
   "outputs": [],
   "source": [
    "import os\n",
    "os.environ['CUDA_VISIBLE_DEVICES'] = '0'    # 指定单卡：使用第一张卡\n",
    "\n",
    "import pandas as pd\n",
    "import json\n",
    "\n",
    "from modelscope import AutoTokenizer\n",
    "from transformers import AutoModelForCausalLM\n",
    "import torch\n",
    "from datasets import Dataset\n",
    "\n",
    "train_jsonl_new_path = \"data/zh_cls_fudan-news/new_train.jsonl\"\n",
    "test_jsonl_new_path = \"data/zh_cls_fudan-news/new_test.jsonl\"\n",
    "\n",
    "# 加载训练 & 测试集\n",
    "train_df = pd.read_json(train_jsonl_new_path, lines=True)[:1000]    # 取前1000条做训练（可选）\n",
    "\n",
    "tokenizer = AutoTokenizer.from_pretrained('./qwen/Qwen2.5-1.5B-Instruct/', use_fast=False, trust_remote_code=True)\n",
    "model = AutoModelForCausalLM.from_pretrained(\"./qwen/Qwen2.5-1.5B-Instruct/\", device_map=\"auto\", torch_dtype=torch.bfloat16)\n",
    "model.enable_input_require_grads()  # 开启梯度检查点时，要执行该方法"
   ]
  },
  {
   "cell_type": "code",
   "execution_count": 3,
   "metadata": {},
   "outputs": [
    {
     "name": "stdout",
     "output_type": "stream",
     "text": [
      "{'input_ids': [108386, 3837, 43288, 99639, 37474, 81705, 17177, 99689, 9370, 72881, 99700, 1773], 'attention_mask': [1, 1, 1, 1, 1, 1, 1, 1, 1, 1, 1, 1]}\n",
      "151643\n"
     ]
    }
   ],
   "source": [
    "text = \"你好，这是一段测试分词的语句。\"\n",
    "text = tokenizer(text)\n",
    "print(text)\n",
    "print(tokenizer.pad_token_id)"
   ]
  },
  {
   "cell_type": "markdown",
   "metadata": {},
   "source": [
    "#### 2.2 预处理训练数据"
   ]
  },
  {
   "cell_type": "code",
   "execution_count": 4,
   "metadata": {},
   "outputs": [
    {
     "name": "stderr",
     "output_type": "stream",
     "text": [
      "Parameter 'function'=<function process_func at 0x000001D7FE5A3430> of the transform datasets.arrow_dataset.Dataset._map_single couldn't be hashed properly, a random hash was used instead. Make sure your transforms and parameters are serializable with pickle or dill for the dataset fingerprinting and caching to work. If you reuse this transform, the caching mechanism will consider it to be different from the previous calls and recompute everything. This warning is only showed once. Subsequent hashing failures won't be showed.\n"
     ]
    },
    {
     "data": {
      "application/vnd.jupyter.widget-view+json": {
       "model_id": "7c17b091939d45bfb19f44b3c816d5c3",
       "version_major": 2,
       "version_minor": 0
      },
      "text/plain": [
       "  0%|          | 0/1000 [00:00<?, ?ex/s]"
      ]
     },
     "metadata": {},
     "output_type": "display_data"
    }
   ],
   "source": [
    "# 预处理训练数据\n",
    "def process_func(example):\n",
    "    \"\"\"\n",
    "    将数据集进行预处理\n",
    "    \"\"\"\n",
    "    MAX_LENGTH = 384\n",
    "    input_ids, attention_mask, labels = [], [], []\n",
    "    # 将输入文本和输出文本转换为 token ID\n",
    "    instruction = tokenizer(\n",
    "        f\"<|im_start|>system\\n你是一个文本分类领域的专家，你会接收到一段文本和几个潜在的分类选项，请输出文本内容的正确类型<|im_end>|\\n<|im_start|>user\\n{example['input']}<|im_end|>\\n<|im_start|>assistant\\n\",\n",
    "        add_special_tokens=False,\n",
    "    )\n",
    "    response = tokenizer(f\"{example['output']}\", add_special_tokens=False)\n",
    "    \n",
    "    # 拼接 instruction 和 response 的 token id\n",
    "    input_ids = (\n",
    "        instruction[\"input_ids\"] + response[\"input_ids\"] + [tokenizer.pad_token_id]\n",
    "    )\n",
    "    attention_mask = instruction[\"attention_mask\"] + response[\"attention_mask\"] + [1]\n",
    "    labels = (\n",
    "        [-100] * len(instruction[\"input_ids\"])  # -100 表示模型不计算该位置的损失\n",
    "        + response[\"input_ids\"]\n",
    "        + [tokenizer.pad_token_id]\n",
    "    )\n",
    "    # 如果输入长度超过最大限制，则截断\n",
    "    if len(input_ids) > MAX_LENGTH:     # 做一个截断\n",
    "        input_ids = input_ids[:MAX_LENGTH]\n",
    "        attention_mask = attention_mask[:MAX_LENGTH]\n",
    "        labels = labels[:MAX_LENGTH]\n",
    "    return {\"input_ids\": input_ids, \"attention_mask\": attention_mask, \"labels\": labels}\n",
    "\n",
    "# 将训练数据转换为 Dataset 对象并应用预处理\n",
    "train_ds = Dataset.from_pandas(train_df)\n",
    "train_dataset = train_ds.map(process_func, remove_columns=train_ds.column_names)"
   ]
  },
  {
   "cell_type": "markdown",
   "metadata": {},
   "source": [
    "### 3. 模型微调和训练"
   ]
  },
  {
   "cell_type": "markdown",
   "metadata": {},
   "source": [
    "#### 3.1 设置lora参数"
   ]
  },
  {
   "cell_type": "code",
   "execution_count": 5,
   "metadata": {},
   "outputs": [],
   "source": [
    "# 设置 LoRA（低秩适配）参数\n",
    "from peft import LoraConfig, TaskType, get_peft_model\n",
    "\n",
    "config = LoraConfig(\n",
    "    task_type=TaskType.CAUSAL_LM,   # 任务类型是语言模型\n",
    "    target_modules=[    # 指定 LoRA 需要应用的模块\n",
    "        \"q_proj\",\n",
    "        \"k_proj\",\n",
    "        \"v_proj\",\n",
    "        \"o_proj\",\n",
    "        \"gate_proj\",\n",
    "        \"up_proj\",\n",
    "        \"down_proj\",\n",
    "    ],\n",
    "    inference_mode=False,   # 设置为 False 表示训练模式\n",
    "    r=8,    # Lora 的秩\n",
    "    lora_alpha=32,  # LoRA Alpha，控制低秩适配的比例\n",
    "    lora_dropout=0.1,   # Dropout 比例\n",
    ")\n",
    "\n",
    "# 获取带有 LoRA 配置的模型\n",
    "model = get_peft_model(model, config)\n"
   ]
  },
  {
   "cell_type": "markdown",
   "metadata": {},
   "source": [
    "#### 3.2 模型训练"
   ]
  },
  {
   "cell_type": "code",
   "execution_count": 6,
   "metadata": {},
   "outputs": [
    {
     "name": "stderr",
     "output_type": "stream",
     "text": [
      "C:\\Users\\Administrator\\AppData\\Local\\Temp\\ipykernel_26280\\255557768.py:17: DeprecationWarning: The module 'huggingface' is deprecated and will be removed in future versions. Please update your imports to use 'transformers' instead.\n",
      "  from swanlab.integration.huggingface import SwanLabCallback\n"
     ]
    },
    {
     "name": "stdout",
     "output_type": "stream",
     "text": [
      "\u001b[1m\u001b[34mswanlab\u001b[0m\u001b[0m: Tracking run with swanlab version 0.4.8                                   \n",
      "\u001b[1m\u001b[34mswanlab\u001b[0m\u001b[0m: Run data will be saved locally in \u001b[35m\u001b[1mf:\\工作文件夹\\AI同步文件夹\\BaiduSyncdisk\\04-NLP大模型课程\\04-代码实践文件夹\\26_27-大模型训练专项项目\\chinese-llm-sft\\swanlog\\run-20250228_110331-a3b1799d\u001b[0m\u001b[0m\n",
      "\u001b[1m\u001b[34mswanlab\u001b[0m\u001b[0m: 👋 Hi \u001b[1m\u001b[39mMachospy\u001b[0m\u001b[0m, welcome to swanlab!\n",
      "\u001b[1m\u001b[34mswanlab\u001b[0m\u001b[0m: Syncing run \u001b[33mQwen2.5-1.5B-Instruct-classification-lora\u001b[0m to the cloud\n",
      "\u001b[1m\u001b[34mswanlab\u001b[0m\u001b[0m: 🌟 Run `\u001b[1mswanlab watch f:\\工作文件夹\\AI同步文件夹\\BaiduSyncdisk\\04-NLP大模型课程\\04-代码实践文件夹\\26_27-大模型训练专项项目\\chinese-llm-sft\\swanlog\u001b[0m` to view SwanLab Experiment Dashboard locally\n",
      "\u001b[1m\u001b[34mswanlab\u001b[0m\u001b[0m: 🏠 View project at \u001b[34m\u001b[4mhttps://swanlab.cn/@Machospy/Qwen2.5-fintune\u001b[0m\u001b[0m\n",
      "\u001b[1m\u001b[34mswanlab\u001b[0m\u001b[0m: 🚀 View run at \u001b[34m\u001b[4mhttps://swanlab.cn/@Machospy/Qwen2.5-fintune/runs/m8gsr0w3lnfs9vlf05ujm\u001b[0m\u001b[0m\n"
     ]
    },
    {
     "data": {
      "text/html": [
       "\n",
       "<!DOCTYPE html>\n",
       "<html lang=\"en\">\n",
       "<head>\n",
       "    <meta charset=\"UTF-8\">\n",
       "    <meta name=\"viewport\" content=\"width=device-width, initial-scale=1.0\">\n",
       "    <title>Show Iframe</title>\n",
       "    \n",
       "        <script>\n",
       "            function showIframe() {\n",
       "                var iframeHtml = '<iframe src=\"https://swanlab.cn/@Machospy/Qwen2.5-fintune/runs/m8gsr0w3lnfs9vlf05ujm\" width=100% height=\"600\" frameborder=\"no\"></iframe>';\n",
       "                document.getElementById('iframeContainer').innerHTML = iframeHtml;\n",
       "            }\n",
       "        </script>\n",
       "        \n",
       "</head>\n",
       "<body>\n",
       "    <style>\n",
       "        .interactive-button {\n",
       "            display: flex;\n",
       "            align-items: center;\n",
       "            height: 36px;\n",
       "            border: 0px;\n",
       "            background-color: #2c8f63;\n",
       "            color: white;\n",
       "            padding: 10px 20px;\n",
       "            transition: background-color 0.3s, transform 0.2s;\n",
       "        }\n",
       "\n",
       "        .interactive-button:hover {\n",
       "            background-color: #5cab87;\n",
       "            cursor: pointer;\n",
       "        }\n",
       "\n",
       "        .interactive-button:active { background-color: #217952; transform: scale(0.96); } </style> <br> <button \n",
       "        onclick=\"showIframe()\" class=\"interactive-button\"> <svg style=\"height: 16px; margin-right: 8px;\" viewBox=\"0 0 \n",
       "        46 46\" fill=\"none\"> <path d=\"M10.8439 21.1974C10.6414 21.2854 10.4477 21.3925 10.2655 21.5173L10.2069 \n",
       "        21.5652C10.1839 21.58 10.1625 21.5969 10.1429 21.6159C6.29135 24.6118 4.22831 29.4416 5.32646 34.282C5.94656 \n",
       "        37.0577 7.50461 39.5348 9.73801 41.2958C11.9714 43.0568 14.7436 43.994 17.5874 43.9495H18.0219C19.8864 \n",
       "        43.8697 21.7087 43.3694 23.3526 42.486C24.9964 41.6026 26.4193 40.3589 27.5147 38.848C28.61 37.3371 29.3496 \n",
       "        35.598 29.678 33.761C30.0065 31.9239 29.9153 30.0363 29.4112 28.2395C28.9181 26.4723 27.8919 24.8437 26.9937 \n",
       "        23.2551C25.4158 20.4653 23.8343 17.6764 22.2492 14.8884C21.7801 14.0647 21.3057 13.2465 20.8419 \n",
       "        12.4228C20.2315 11.3353 19.2746 10.1519 19.224 8.86183C19.1733 7.57176 20.2235 6.32701 21.5082 \n",
       "        6.07912C23.9284 5.61801 25.0639 8.24078 25.0693 8.23812C25.363 8.94035 25.9123 9.50489 26.6063 \n",
       "        9.81764C27.3002 10.1304 28.087 10.168 28.8077 9.92298C29.5283 9.67791 30.1291 9.1684 30.4885 8.49743C30.8479 \n",
       "        7.82646 30.9392 7.04405 30.7439 6.30835C30.1514 4.37314 28.9133 2.69953 27.2363 1.56656C25.7615 0.511704 \n",
       "        23.9847 -0.0372109 22.1719 0.00195984C20.9049 0.00893199 19.6532 0.27989 18.4967 0.797557C17.3402 1.31522 \n",
       "        16.3043 2.06823 15.4551 3.00856C14.49 4.08707 13.7984 5.38193 13.4389 6.78385C13.0794 8.18576 13.0624 9.6536 \n",
       "        13.3894 11.0635C13.52 11.593 13.6984 12.1095 13.9225 12.6067C14.5595 14.0514 15.4951 15.3681 16.284 \n",
       "        16.7355C17.2525 18.4147 18.2209 20.0948 19.1893 21.7758C20.1578 23.4568 21.1351 25.1449 22.1213 \n",
       "        26.8401C22.9209 28.2421 23.7925 29.4682 23.8805 31.1528C23.9175 32.0513 23.7682 32.9479 23.4419 \n",
       "        33.7859C23.1156 34.6239 22.6194 35.3854 21.9845 36.0223C21.3496 36.6592 20.5897 37.1578 19.7527 \n",
       "        37.4868C18.9157 37.8157 18.0196 37.9678 17.121 37.9336C14.0024 37.7923 11.6488 35.4814 11.1744 32.4588C10.58 \n",
       "        28.6419 13.552 26.5469 13.552 26.5469C14.1782 26.1785 14.6497 25.5955 14.8791 24.906C15.1084 24.2166 15.0801 \n",
       "        23.4673 14.7993 22.7971C14.5186 22.127 14.0044 21.5813 13.3521 21.2611C12.6998 20.941 11.9536 20.8682 11.2517 \n",
       "        21.0561C11.1174 21.0939 10.9856 21.1402 10.8572 21.1947\" fill=\"white\" /> <path d=\"M42.8101 31.5968C42.8109 \n",
       "        30.5198 42.7218 29.4445 42.5435 28.3823C42.2663 26.7069 41.7464 25.0808 41.0002 23.5552C40.5524 22.6463 \n",
       "        39.9874 21.7374 39.1024 21.2417C38.6593 20.9919 38.1589 20.8617 37.6502 20.8639C37.1416 20.8661 36.6423 \n",
       "        21.0006 36.2013 21.2541C35.7604 21.5077 35.393 21.8716 35.1352 22.3101C34.8775 22.7485 34.7382 23.2466 \n",
       "        34.7312 23.7552C34.7072 24.8773 35.3149 25.8875 35.768 26.9217C36.5212 28.6453 36.8623 30.5208 36.7642 \n",
       "        32.3993C36.6661 34.2777 36.1315 36.1075 35.2029 37.7433C35.146 37.8404 35.0952 37.941 35.051 38.0445C34.8623 \n",
       "        38.4842 34.7635 38.9573 34.7605 39.4358C34.7802 40.1222 35.0356 40.7808 35.4835 41.3011C35.9315 41.8214 \n",
       "        36.5449 42.1717 37.2207 42.2932C38.8759 42.589 40.1899 41.347 40.8856 39.9609C42.1643 37.3589 42.823 34.4961 \n",
       "        42.8101 31.5968Z\" fill=\"white\" /> <path d=\"M28.2309 11.8938C28.1761 11.9043 28.1218 11.9176 28.0683 \n",
       "        11.9338C27.9593 11.9642 27.8611 12.0249 27.7851 12.1088C27.7091 12.1928 27.6584 12.2965 27.6389 \n",
       "        12.408C27.6193 12.5195 27.6318 12.6343 27.6748 12.7391C27.7178 12.8438 27.7895 12.9343 27.8818 \n",
       "        12.9999C29.2375 14.0252 30.3809 15.3043 31.2482 16.7662C31.4838 17.1677 31.6888 17.5865 31.8612 \n",
       "        18.0189C32.0052 18.3921 32.1971 18.8799 32.6822 18.8532C33.0607 18.8346 33.2153 18.512 33.3192 \n",
       "        18.1895C33.8137 16.5125 33.9678 14.7534 33.7723 13.0159C33.6331 12.0693 33.4155 11.1359 33.122 \n",
       "        10.2252C33.0775 10.0047 32.9744 9.80029 32.8235 9.6335C32.7273 9.54627 32.6054 9.49262 32.4761 9.4806C32.3468 \n",
       "        9.46859 32.2171 9.49886 32.1065 9.56687C32.0016 9.65188 31.9115 9.75365 31.8399 9.86806C31.3956 10.4658 \n",
       "        30.825 10.9581 30.1687 11.3101C29.8377 11.4861 29.4893 11.6272 29.1292 11.7312C28.828 11.8192 28.5215 11.8325 \n",
       "        28.2309 11.8938Z\" fill=\"white\" /> </svg> Display SwanLab Board </button> <br> <div \n",
       "        id=\"iframeContainer\"></div> </body> </html>"
      ],
      "text/plain": [
       "<IPython.core.display.HTML object>"
      ]
     },
     "metadata": {},
     "output_type": "display_data"
    },
    {
     "data": {
      "application/vnd.jupyter.widget-view+json": {
       "model_id": "4aa7dbeb50524d469190d01ca3f80c19",
       "version_major": 2,
       "version_minor": 0
      },
      "text/plain": [
       "  0%|          | 0/124 [00:00<?, ?it/s]"
      ]
     },
     "metadata": {},
     "output_type": "display_data"
    },
    {
     "name": "stderr",
     "output_type": "stream",
     "text": [
      "`use_cache=True` is incompatible with gradient checkpointing. Setting `use_cache=False`...\n",
      "e:\\ProgramData\\anaconda3\\envs\\cpupytorch\\lib\\site-packages\\torch\\utils\\checkpoint.py:464: UserWarning: torch.utils.checkpoint: the use_reentrant parameter should be passed explicitly. In version 2.4 we will raise an exception if use_reentrant is not passed. use_reentrant=False is recommended, but if you need to preserve the current default behavior, you can pass use_reentrant=True. Refer to docs for more details on the differences between the two variants.\n",
      "  warnings.warn(\n",
      "e:\\ProgramData\\anaconda3\\envs\\cpupytorch\\lib\\site-packages\\transformers\\models\\qwen2\\modeling_qwen2.py:521: UserWarning: 1Torch was not compiled with flash attention. (Triggered internally at C:\\actions-runner\\_work\\pytorch\\pytorch\\builder\\windows\\pytorch\\aten\\src\\ATen\\native\\transformers\\cuda\\sdp_utils.cpp:455.)\n",
      "  attn_output = torch.nn.functional.scaled_dot_product_attention(\n"
     ]
    },
    {
     "name": "stdout",
     "output_type": "stream",
     "text": [
      "{'loss': 92.7733, 'grad_norm': 0.0021985857747495174, 'learning_rate': 9.193548387096774e-05, 'epoch': 0.16}\n",
      "{'loss': 0.1076, 'grad_norm': 33.2103385925293, 'learning_rate': 8.387096774193549e-05, 'epoch': 0.32}\n",
      "{'loss': 11.4651, 'grad_norm': 0.18802285194396973, 'learning_rate': 7.580645161290323e-05, 'epoch': 0.48}\n",
      "{'loss': 0.1622, 'grad_norm': 27.960243225097656, 'learning_rate': 6.774193548387096e-05, 'epoch': 0.64}\n",
      "{'loss': 0.1542, 'grad_norm': 0.0, 'learning_rate': 5.9677419354838715e-05, 'epoch': 0.8}\n",
      "{'loss': 0.0396, 'grad_norm': 44.46549606323242, 'learning_rate': 5.161290322580645e-05, 'epoch': 0.96}\n",
      "{'loss': 0.0081, 'grad_norm': 0.012126672081649303, 'learning_rate': 4.3548387096774194e-05, 'epoch': 1.12}\n",
      "{'loss': 0.0202, 'grad_norm': 0.09919442981481552, 'learning_rate': 3.548387096774194e-05, 'epoch': 1.28}\n",
      "{'loss': 0.575, 'grad_norm': 0.00448482995852828, 'learning_rate': 2.7419354838709678e-05, 'epoch': 1.44}\n",
      "{'loss': 0.0695, 'grad_norm': 0.006514646578580141, 'learning_rate': 1.935483870967742e-05, 'epoch': 1.6}\n"
     ]
    },
    {
     "name": "stderr",
     "output_type": "stream",
     "text": [
      "e:\\ProgramData\\anaconda3\\envs\\cpupytorch\\lib\\site-packages\\torch\\utils\\checkpoint.py:464: UserWarning: torch.utils.checkpoint: the use_reentrant parameter should be passed explicitly. In version 2.4 we will raise an exception if use_reentrant is not passed. use_reentrant=False is recommended, but if you need to preserve the current default behavior, you can pass use_reentrant=True. Refer to docs for more details on the differences between the two variants.\n",
      "  warnings.warn(\n"
     ]
    },
    {
     "name": "stdout",
     "output_type": "stream",
     "text": [
      "{'loss': 0.0059, 'grad_norm': 0.002179234754294157, 'learning_rate': 1.129032258064516e-05, 'epoch': 1.76}\n",
      "{'loss': 0.0647, 'grad_norm': 20.83526611328125, 'learning_rate': 3.225806451612903e-06, 'epoch': 1.92}\n",
      "{'train_runtime': 3247.7778, 'train_samples_per_second': 0.616, 'train_steps_per_second': 0.038, 'train_loss': 8.503674472877455, 'epoch': 1.98}\n"
     ]
    },
    {
     "data": {
      "text/plain": [
       "TrainOutput(global_step=124, training_loss=8.503674472877455, metrics={'train_runtime': 3247.7778, 'train_samples_per_second': 0.616, 'train_steps_per_second': 0.038, 'total_flos': 6031947608358912.0, 'train_loss': 8.503674472877455, 'epoch': 1.984})"
      ]
     },
     "execution_count": 6,
     "metadata": {},
     "output_type": "execute_result"
    }
   ],
   "source": [
    "# 训练\n",
    "from transformers import TrainingArguments, Trainer, DataCollatorForSeq2Seq\n",
    "\n",
    "args = TrainingArguments(\n",
    "    output_dir=\"./output/Qwen2\",  # 输出目录\n",
    "    per_device_train_batch_size=4,  # 每设备训练的批次大小\n",
    "    gradient_accumulation_steps=4,  # 梯度累积步数\n",
    "    logging_steps=10,  # 每隔多少步记录一次日志\n",
    "    num_train_epochs=2,  # 训练轮数\n",
    "    save_steps=100,  # 每隔多少步保存一次模型\n",
    "    learning_rate=1e-4,  # 学习率\n",
    "    save_on_each_node=True,  # 每个节点保存模型\n",
    "    gradient_checkpointing=True,  # 启用梯度检查点\n",
    "    report_to=\"none\",  # 不报告到任何平台\n",
    ")\n",
    "\n",
    "from swanlab.integration.huggingface import SwanLabCallback\n",
    "import swanlab\n",
    "\n",
    "# 设置回调函数（集成 SwanLab 进行实验追踪）\n",
    "swanlab_callback = SwanLabCallback(\n",
    "    project=\"Qwen2.5-fintune\",  # 项目名称\n",
    "    experiment_name=\"Qwen2.5-1.5B-Instruct-classification-lora\",    # 实验名称\n",
    "    description=\"使用通义千问Qwen2.5-1.5B-Instruct模型在zh_cls_fudan-news数据集上微调。\",\n",
    "    config={\n",
    "        \"model\": \"qwen/Qwen2.5-1.5B-Instruct\",  # 模型名称\n",
    "        \"dataset\": \"huangjintao/zh_cls_fudan-news\", # 数据集名称\n",
    "    },   \n",
    ")\n",
    "\n",
    "# 初始化 Trainer 对象，进行训练\n",
    "trainer = Trainer(\n",
    "    model=model,\n",
    "    args=args,\n",
    "    train_dataset=train_dataset,\n",
    "    data_collator=DataCollatorForSeq2Seq(tokenizer=tokenizer, padding=True),    # 数据拼接\n",
    "    callbacks=[swanlab_callback],   # 设置回调\n",
    ")\n",
    "\n",
    "trainer.train()"
   ]
  },
  {
   "cell_type": "markdown",
   "metadata": {},
   "source": [
    "## 4. 预测"
   ]
  },
  {
   "cell_type": "code",
   "execution_count": 8,
   "metadata": {},
   "outputs": [
    {
     "name": "stderr",
     "output_type": "stream",
     "text": [
      "The attention mask is not set and cannot be inferred from input because pad token is same as eos token.As a consequence, you may observe unexpected behavior. Please pass your input's `attention_mask` to obtain reliable results.\n",
      "e:\\ProgramData\\anaconda3\\envs\\cpupytorch\\lib\\site-packages\\torch\\utils\\checkpoint.py:464: UserWarning: torch.utils.checkpoint: the use_reentrant parameter should be passed explicitly. In version 2.4 we will raise an exception if use_reentrant is not passed. use_reentrant=False is recommended, but if you need to preserve the current default behavior, you can pass use_reentrant=True. Refer to docs for more details on the differences between the two variants.\n",
      "  warnings.warn(\n",
      "e:\\ProgramData\\anaconda3\\envs\\cpupytorch\\lib\\site-packages\\torch\\utils\\checkpoint.py:91: UserWarning: None of the inputs have requires_grad=True. Gradients will be None\n",
      "  warnings.warn(\n"
     ]
    },
    {
     "name": "stdout",
     "output_type": "stream",
     "text": [
      "Art\n",
      "Military\n",
      "Politics\n",
      "Art\n",
      "History\n",
      "Space\n",
      "Transport\n",
      "Literature\n",
      "Economy\n",
      "Art\n"
     ]
    },
    {
     "data": {
      "text/plain": [
       "{'Prediction': ['[{\"role\": \"system\", \"content\": \"你是一个文本分类领域的专家，你会接收到一段文本和几个潜在的分类选项，请输出文本内容的正确类型\"}, {\"role\": \"user\", \"content\": \"文本:自动化学报ACTA AUTOMATICA SINICA1997年\\u3000第23卷\\u3000第6期\\u3000Vol.23\\u3000No.6\\u30001997两步H∞辨识算法的一个近似最优的误差上界王书宁摘要\\u3000利用逼近理论中的n-宽度和Bernstain不等式，以一般性的窗口系数为变量，对鲁棒辨识中的两步H∞辨识算法，建立了一个近似最优的误差上界函数. 该函数是窗口系数的凸函数，它不仅可用于计算任意窗口系数对应的辨识误差上界，还为优化选择两步H∞辨识算法的窗口系数提供了可行途径.关键词\\u3000鲁棒辨识， 最坏情况下的确定型辨识， H∞辨识， 两步H∞辨识算法.A QUASI-OPTIMAL UPPER ERROR BOUND FOR TWO-STAGE H∞IDENTIFICATION ALGORITHMSWANG SHUNING(Dept. of Automation, Tsinghua University, Beijing 100084)Abstract\\u3000By making use of n-width in approximation theory and Bernstain\\'s inequality, a quasi-optimal upper error bound for two-stage H∞ identification algorithms of robust identification is established in this paper, which is an explict function of general window coefficients. The function is convex with respect to window coefficients. It not only can be used for computation of upper error bounds corresponding to any concrete window coefficients, but also supplies a feasible way for choosing window coefficients of two-stage H∞ identification algorithms with optimization techniques.Key words\\u3000Robust identification, worst-case/deterministic identification, H∞ identificatioin, two-stage H∞ identification algorithms.1\\u3000引言两步H∞辨识算法产生于文献［1］，后经文献［2,3］的发展，成为解决频域H∞鲁棒辨识问题的一类算法.迄今，对该算法的研究基本上都局限于对具体的窗口系数推导辨识误差上界，以证明相应算法的收敛性. 这些上界一般比较保守［2］，不能据其大小比较不同窗口系数的优劣.为此，本文以一般性窗口系数为变量，建立了一个近似最优的误差上界函数.它不仅为计算任意窗口系数对应的辨识误差上界提供了便利， 还可直接用于优化选择窗口系数.本文采用以下符号约定：CN表示起始下标为0的全体N维复向量的集合；L∞表示满足‖h‖L∞:=｜h(z)｜＜∞的复变函数组成的赋范空间；QN:={h,h∈L∞｜h(z)=hkzk};H∞表示满足‖h‖H∞:=｜h(z)｜＜∞的解析函数组成的赋范空间；PN:={h,h∈H∞｜h(z)=hkzk};由于‖h‖H∞=‖h‖L∞,h∈H∞,将统一用‖h‖∞:=｜h(ejw)｜表示L∞和H∞的范数，其中j表示；对任意的x∈CN，xk总表示其分量；对任意的h∈H∞，hk总表示其Taylor系数.2\\u3000预备知识2.1\\u3000H∞辨识问题设被辨识系统为离散、稳定、因果、线性时不变的单变量系统. 假定：1)系统脉冲响应{hk}∞k=0构成的传递函数h(z):=hkzk属于先验模型集H(M,ρ):={h,h∈H∞｜h(z)｜≤M,｜z｜＜ρ}，其中M＞0和ρ＞1给定；2) 对任意的N＞0，可得到受污染的频域观测数据EN(h,η)∈CN，满足ENt(h,η)=h()+ηt,0≤t≤N-1，其中η∈BN(ε):={η,η∈CN｜｜ηt｜≤ε,0≤t≤N-1}是未知噪声，ε＞0给定. 要求：1)设计算法:CNH∞，使能用(EN(h,η))逼近h; 2) 确定在最坏情况下可能产生的辨识误差eNε():=sup{‖(EN(h,η))-h‖∞｜s.t.h∈H(M,ρ),η∈BN(ε)}的上界，并分析eNε()可否随着N趋于无穷和ε趋于零而趋于零，具有这种性质的算法称为收敛的算法.2.2\\u3000两步H∞辨识算法用FN:CNCN 表示离散Fourier变换，即FNk(y):=，0≤k≤N-1，y∈CN. 对任意的整数m和0≤k≤N-1，规定FNk+mN(y)=FNk(y).定义映射nx1:CNL∞和*:L∞H∞如下：其中n为给定的正整数，{xk}n-1k=-(n-1)为给定的窗口系数. 所谓两步H∞辨识算法即由映射nx2(EN(h,η)):=*(nx1(EN(h,η)))生成所需模型. 容易证明［3］eNε(nx2)≤2eNε(nx1).\\u3000\\u3000\\u3000\\u3000\\u3000\\u3000\\u3000\\u3000\\u3000\\u3000\\u3000\\u3000\\u3000\\u3000(1)此外，*完全由Nehari定理所确定［4］.可见，nx2的性能实际上只取决于窗口系数x的选择.2.3\\u3000几个引理引理1.［5］若M＞0,ρ＞1，则对任意正整数N和h∈H(M,ρ)，成立其中ΓNρ:H∞H∞定义为(ΓNρ(h))(z)=(1-ρ2(k-N))hkzk.引理2.对任意的a∈CN和b∈CN，成立其中HN(M,ρ):={h,h∈PN｜(αNρk)2｜hk｜2≤M2},αNρk:=ρk(1-ρ2(k-N))-1,0≤K≤N-1.证明.首先利用Cauchy不等式可得(2)此外，令其中t和t分别表示at和bt的共轭复数. 取h0∈PN为容易验证h0∈HN(M,ρ),η0∈BN(ε),\\u3000\\u3000\\u3000\\u3000\\u3000\\u3000\\u3000\\u3000\\u3000\\u3000\\u3000\\u3000(3)(4)结合(2)―(4)式，知本引理成立.引理3.对任意的h∈QN和满足n＞4π(N-1)的正整数n，成立证明.引理的左半不等式显然成立.只证其右半不等式.记令不难看出｜h(ejω)｜=｜f(ω)｜,0≤ω≤2π.\\u3000\\u3000\\u3000\\u3000\\u3000\\u3000\\u3000\\u3000\\u3000\\u3000\\u3000(5)对任意的0≤l≤n-1，利用f(ω)的实部和虚部在处的一阶Taylor展开及Bernstain不等式［6］，有可以推得在上式两边对于l求最大，注意到,可得(6)最后，将(5)式代入(6)式可得欲证之不等式.3\\u3000主要结果为论述方便，将两步H∞辨识算法中的n取为N，对n=mN, m＞1的情况可类似处理.定理1.对任意算法，成立其中η∈BN(ε+Mρ-N)}.证明.对任意的h∈H(M,ρ)和η∈BN(ε)，令 0≤t≤N-1. 由引理1知‖h-ΓNρ(h)‖∞≤Mρ-N, d∈BN(ε+Mρ-N).\\u3000\\u3000\\u3000\\u3000\\u3000\\u3000\\u3000\\u3000\\u3000\\u3000(7)此外，利用Parseval等式可得所以，ΓNρ(h)∈HN(M,ρ).再注意到EN(h,η)=EN(ΓNρ(h),d), 结合(7)式可最终推得定理2.如果m＞4π，则有其中γ0(x,ω):=x0，γk(x,ω):=xk+xk-Ne-jNω, 1≤k≤N-1.证明.对任意的h∈HN(M,ρ)和η∈BN(ε+Mρ-N)，利用可以得到注意到对FNk(EN(h,η))在k＜0和k≥N时的规定，可得对上式利用引理2可直接得到(8)另一方面，由于Nx1(EN(h,η))-h∈QN， 利用引理3可得(9)最后，注意到及,ω，在(9)式关于h和η求上确界，并利用(8)式，可得到本定理的结论.由以上定理和(1)式，立即可得以下推论.推论1.对任意一组窗口系数x，成立其中m为满足m＞4π的任意整数.4\\u3000结束语为获得推论1采取了两种保守的处理方法：第一，利用引理1将h(z)的无穷尾项转换为一个其H∞范数不大于Mρ-N的未知量；第二，用各ht的不等式约束ρ2t｜ht｜2≤M2代替不易处理的原始约束｜htρtejtω｜≤M,ω.文献中一般采用Cauchy估计ρt｜ht｜≤M,t处理以上问题.由于Cauchy估计可以从ρ2t｜ht｜2≤ρ2t｜ht｜2≤M2推出，而从Cauchy估计出发只能得到无穷尾项的如下上界｜htejtω｜≤｜ht｜≤Mρ-N(1-p-1)-1. 因此，本文建立的上界应更接近误差上确界.此外，是x的凸函数，而凸规划问题存在一般有效的求解算法. 因此，推论1建立的上界不仅为计算任意一组与窗口系数对应的辨识误差上界提供了便利，还为优化选择窗口系数提供了可行途径.1) 得到国家自然科学基金和教委博士点基金资助课题.作者单位：清华大学自动化系\\u3000北京\\u3000100084参考文献[1]\\u3000Helmicki A J, Jacobson C A, Nett C N. Control oriented system identification: a worst-case/deterministic approach in H∞. IEEE Trans. Automatic Control, 1991, 36(10):1163-11276.[2]\\u3000Partington J R. Robust identification and interpolation in H∞. Int.J. Control.1991,54(5):1281-1290.[3]\\u3000Gu G,Khargonekar P P. A class of algorithms for identificaiton in H∞. Automatica, 1992, 28(2):299-312.[4]\\u3000Young N J. An Introduction to Hilbert Space, New York: Cambridge University Press, 1988.[5]\\u3000 Gu G. Suboptimal algorithms for worst case identification in H∞ and model validation, IEEE Trans. Automatic Control,1994. 39(8):1657-1661.[6]\\u3000Beckenbach E F, Bellman R. Inequalities, Berlin: Springer-Verlag, 1983.收稿日期 1995-09-06, 类型选项:[\\'Art\\', \\'Sports\\', \\'Economy\\', \\'Enviornment\\', \\'Education\\', \\'Transport\\', \\'Electronics\\', \\'Philosophy\\', \\'Medical\\', \\'Military\\', \\'Communication\\', \\'Politics\\', \\'Space\\', \\'Law\\', \\'History\\', \\'Computer\\', \\'Literature\\', \\'Energy\\']\"}, {\"role\": \"assistant\", \"content\": \"Art\"}]', '[{\"role\": \"system\", \"content\": \"你是一个文本分类领域的专家，你会接收到一段文本和几个潜在的分类选项，请输出文本内容的正确类型\"}, {\"role\": \"user\", \"content\": \"文本:航空动力学报JOURNAL OF AEROSPACE POWER1998年 第4期 No.4 1998科技期刊管路系统敷设的并行工程模型研究*陈志英*\\u3000*\\u3000马\\u3000枚北京航空航天大学【摘要】\\u3000提出了一种应用于并行工程模型转换研究的标号法，该法是将现行串行设计过程(As-is)转换为并行设计过程(To-be)。本文应用该法将发动机外部管路系统敷设过程模型进行了串并行转换，应用并行工程过程重构的手段，得到了管路敷设并行过程模型，文中对该模型进行了详细分析。最后对转换前后的模型进行了时间效益分析，得到了对敷管工程有指导意义的结论。\\\\t主题词：\\u3000航空发动机\\u3000管路系统\\u3000计算机辅助设计\\u3000建立模型\\u3000\\u3000\\u3000自由词：\\u3000并行工程分类号：\\u3000V2331\\u3000管路系统现行设计过程发动机管路设计的传统过程是串行的，即根据发动机结构总体设计要求，首先设计发动机主体及附件，之后确定各附件位置及相互连接关系。传统的管路敷设方法通常先制作一个与原机比例为1∶1的金属样机，安装上附件模型或实际的附件，敷管工程师用4mm铅丝进行附件间导管连接的实地测量打样，产生导管走向的三维空间形状，进行间隙检查、导管最小弯曲半径检查、导管强度振动分析、可维修性、可达性及热膨胀约束分析等等［1］。历经多次反复敷管并满足所有这些要求后交弯管车间按此铅丝的三维空间形状进行弯管，之后安装导管、管接头、卡箍等。这样每敷设一根管时均需经上述过程，直到敷完所有连接导管。最后装飞机检验图1\\u3000管路系统传统设计过程模型整个发动机外廓与飞机短舱间的间隙是否合适，检验发动机各导管与飞机连接是否合理。管路系统传统研制过程模型参见图1。由该过程模型可见，传统的管路系统设计是经验设计，其管路敷设过程涉及总体、附件、材料、工艺、加工、飞机部门等众多部门和环节，而管路设计本身尚不规范，设计研制过程中必然要有大量反复工作存在，从而会大大延长发动机研制周期。面临现代社会越来越激烈的市场竞争，使得产品开发者力争在最短时间内（T），消耗最少的资金（C），生产出满足市场需求（Q）的产品，必须改变产品开发模式，通过过程重构，把传统的串行过程转换为并行设计过程，提高敷管过程的并行度［2］。2\\u3000过程重构及标号法过程重构是研究如何将传统的开发过程转换为并行的开发过程，从而使产品研制周期大大缩短，并取得“一次成功”。过程模型的转换可以通过专家经验法实现，然而对于一个复杂过程，如果不借助数学工具，仅靠人工观察是不够的。一个复杂产品的开发需要多部门、多学科的共同参与，因此会有大量活动，而且活动间的约束关系错综复杂［3］。本文提出了进行过程重构的“标号法”算法。思路如下：2．1\\u3000概念与定义定义1设有n个活动V1，V2，…，Vn，之间存在有序关系，定义关联矩阵：A＝［aij］n×n若Vj是Vi的前序，aij＝1；若Vj不是Vi的前序，aij＝0；并规定aii＝1。定义2\\u3000若ai1i2＝ai2i3＝…＝ais-1is＝aisi1＝1，则称C＝｛Vi1，Vi2，…，Vis｝为1个环。定义3\\u3000若C为一个环，且C与其它Vj不构成环，称C为饱和环。定义4\\u3000L(1)，L(2)，…，L(k)称为层集。L(i)是Vj或C的集合，且L(1)∪L(2)∪…∪L(k)＝｛1，2，…，n｝，即L(1)，…，L(k)互不相交。2．2\\u3000基本原理（1）Vi没有前序，即 Ai*e＝1，则Vi为初始层OA；（2）｛V1，V2，…，Vn｝中的初始层有且只有环存在，则A*e＞e。2．3\\u3000迭代(1)Ae＝\\u3000XJ＞eJ可对层进行标号L(s)；(2)A＝令A＝AJ，S＝S＋1，进行步骤(1)；(3)AJ*e＞eJ ，搜索法找到一个饱和环C(k)；(4)对C(k)进行标号L(k)，并判断其前序性。若J＝Φ（空）则结束。若J≠Φ，令A＝AJ并返回到步骤(1)。3\\u3000并行过程模型的建立根据前述标号法方法对图1包含20项任务的管路系统传统设计过程模型建立关联矩阵A，如图2所示（图中数字含义与图1相同）。对此关联矩阵用本文提出的标号法进行过程重构，得到变换后的关联矩阵A′，见图3。从而把原20项任务确定出7个活动层，其中第2层含2个并行活动，第3层包含3个并行活动，第5层包含4个并行活动，第6层是一个饱和环。通过对此实例的过程变换与分析，可以看出“标号法”具有以下特点：(1)总结出此类算法的2条基本原理，证实了算法的可行性；(2)在算法上用单位向量与活动关联阵相乘，求初始层OA，使标号更加明确；(3)寻找层的同时进行了标号，对活动项排序的同时也进行了标号；(4)定义了饱和环概念，消除了嵌环的问题，从而可找到最小环，消除原过程的大循环；(5)用数学的概念进行了算法表达，可对任何过程通过计算进行模型转换。图2\\u3000关联矩阵A\\u3000\\u3000\\u3000\\u3000\\u3000\\u3000\\u3000\\u3000\\u3000\\u3000图3\\u3000转换后的关联矩阵A′由于工程性问题通常存在任务反馈，反馈对于生产研制过程是必不可少的而又非常重要的。为提高并行度，有的专家提出无条件消除反馈［4］，但这势必带来产品设计过程中的不合理性，大大降低了其工程实用性。正是因为反馈参数的存在，才使产品开发过程出现循环反复，延长了研制周期。因此解决反馈问题是工程性课题的重点研究内容。本文提出把“标号法”应用于解决工程实际问题时，可采用修正方法，即：把既是后续任务又具有约束条件的任务项，变换为约束控制类任务提前到被分析任务项前进行，使其成为前序约束任务项来制约过程设计。由此可知任务项11（约束分析）、12（工艺性分析）和任务19（装飞机检验）符合上述原则，可考虑把这三项任务提前到管路敷设任务9前进行。转换后的并行过程模型见图4（图中数字含义与图1相同）。从图中可看出这7个层次，即结构总体设计、外形设计、建模、样机装配、材料准备及约束、敷管和质量检验。图4\\u3000管路系统并行设计过程模型(图中数字说明见图1)由此可见，经过重构后的敷管过程具有以下几个特点：(1)敷管过程大循环多反馈变换为小循环少反馈，一些任务项转换为约束控制类任务，使需要多次调整管路走向的敷管任务环内项目数大大减少，缩短了开发周期；(2)对管路敷设有反馈的所有任务项集中在敷管任务项前后进行，突出体现了并行工程强调协作的重要作用意义；例如把装飞机检验提到敷管同时进行，可完全避免大返工现象发生；(3)过程管理流程的层次更加分明，有利于量化管理过程，有利于产品管理、组织管理、资源管理等做相应调整。4\\u3000效益分析经分段分析计算，传统的管路敷设过程若一次敷管成功要持续14个月左右，但事实上没有一台新机研制过程中是一次敷管成功的。由上述过程重构分析可见，传统的串行敷管过程基本上一次敷管只偏重满足一种约束要求，而敷管过程是一个多约束控制过程，因此必然造成多次敷管方能满足所有要求。例如，首次敷管偏重于考虑不干涉问题，但当管路敷设完之后，才发现已敷管路不能满足其它敷管要求时，这时调整某些导管，会发生“牵一动百”效应，势必需要再花一段时间（2个月左右）调整管路走向。在实际工程中，由于管路设计任务滞后发动机其它零部件研制阶段，使得留给管路设计任务的周期短而又短，为满足发动机试车任务的急需，可能先敷设一个不考虑任何约束的管路系统。因此在传统敷管方式下多次敷管过程是必然的。当然实际工程中做到同时满足所有约束要求的一次敷管成功，不仅要建立1个并行过程模型，还需要一些技术和管理条件的支持，如到一定阶段加强各部门协调。还有采用CAD技术，金属表1\\u3000效益分析传统敷管成功次数传统时间节省时间节省效益一次二次三次…十次14个月16个月18个月32个月5个月7个月9个月23个月36.710%43.755%50.000%71.870%* 节省效益＝节省时间/传统时间样机的制作也可相应废除掉，改做电子模型样机，至少可节省数万元的制作费［5］。另外把原每敷设完一根导管就要进行弯管和装管的过程，改为在计算机上敷设完所有管路模型之后进行弯管及装配，可避免大量无效弯管的浪费，也大大节省了开发周期，同时降低开发费用，使一次敷管成功成为可能。管路敷设过程重构后，由于一些任务可同时进行，因此并行敷管过程只需9个月左右时间。效益分析及结果见表1。结束语\\u3000改变现行开发模式，建立以CAD为技术支持的管路系统敷设开发数据工具，形成以过程管理为基础的管路敷设系统，将大大缩短开发周期，也必将提高敷管质量，同时也将降低开发费用。参\\u3000考\\u3000文\\u3000献1\\u3000马晓锐．航空发动机外部管路敷设的专家系统：［学位论文］．航空航天工业部六o六研究所，19932\\u3000王甫君．支持并行工程集团群工作的通信、协调、控制系统：［学位论文］．北京航空航天大学，19973\\u3000Biren Prased.Concurrent Engineering Fundamentals. Volume I,Prentice Hall PTR,USA,19964\\u3000A Kusiak, T N Larson.Reengineering of Design and Mannufacturing Processes.Computer and Engingeering,1994,26(3):521-5365\\u3000James C B,Henry A. J.Electronic Engine‘Mockup’Shortens Design Time. AEROSPACE AMERICA,PP98－100,January 1985（责任编辑\\u3000杨再荣）1998年5月收稿；1998年7月收到修改稿。\\u3000*潮疚南倒家自然科学基金资助项目，编号：95404F100A(69584001)*\\u3000*男\\u300038岁\\u3000副研究员\\u3000北京航空航天大学405教研室\\u3000100083, 类型选项:[\\'Military\\', \\'Space\\']\"}, {\"role\": \"assistant\", \"content\": \"Military\"}]', '[{\"role\": \"system\", \"content\": \"你是一个文本分类领域的专家，你会接收到一段文本和几个潜在的分类选项，请输出文本内容的正确类型\"}, {\"role\": \"user\", \"content\": \"文本:【 文献号 】5-800\\\\t【原文出处】中山大学学报：社科版\\\\t【原刊地名】广州\\\\t【原刊期号】200003\\\\t【原刊页号】84～88\\\\t【分 类 号】B3\\\\t【分 类 名】逻辑\\\\t【复印期号】200004\\\\t【 标  题 】形式逻辑功能的转向\\\\t――法兰克福学派对形式逻辑的政治学分析【英文标题】A Change in the  Function  of  Formal  Logic:   A  PoliticalAnalysis of the Frankfurt School to Formal Logic\\\\tYING Guo-liang【 作  者 】应国良\\\\t【作者简介】应国良，中山大学  法政学院政治学与行政学系，广东 广州 510275\\\\t应国良（1956―），男，浙江杭州人，中山大学法政学院讲师，哲学博士。【内容提要】法兰克福学派的形式逻辑理论尚未被人十分重视，而文章认为形式逻辑是理解这一学派社会政治理论的重要方面。正如这一学派的\\\\t理论家们所揭示的，现代西方社会，形式逻辑已作为政治意识过滤机制的重要组成部分，参与对人的压抑和控制过程。根据这样的认识，作者深入研究了法兰克福学派有关形式逻辑已由支配自然的思维工具，转变为对人统治的工具，在现代西方政治生活中，发挥着对人们的政治意识进行过滤，维护现存社会制度的政治功能；形式逻辑功能转向的内在依据、以及形式逻辑作为一种社会政治统治逻辑的具体方式等思想，并对此提出自己的观点和看法。【英文摘要】This article holds that, the Frankfurt  School\\'s  theory  offormal logic is an important aspect for us to underst\\\\tand  thisschool\\'s social and political theories, which,  however,   hasbeen neglected. The Frankfurt School reveals that  theformallogic, as the  important  part  of  the  filter  of  politicalconsciousness, has had a hand in the process  to  depress  anddominate people. It has  become  the  tool  from  ruling  overnature to ruling over people, so as  to  filter  the  people\\'spolitical  consciousness  and   defend   the   extant   socialinstitution. The function of formal logic has changed andhasbecome the ruling logic in the western political society.  Theauthor gives his own opinion on these issues.【关 键 词】法兰克福学派/形式逻辑/功能/政治意识过滤\\\\tthe Frankfurt School/formal logic/function/filter【 正  文 】\\\\t中图分类号：D09    文献标识码：A    文章编号：1000―9639（2000）03―0084―05法兰克福学派关于形式逻辑的理论是一个值得人们探讨的领域。从弗洛姆开始注意到逻辑作为思维方式以外的对人的意识过滤功能，到霍克海默和阿多尔诺系统地论述形式逻辑从一种人类战胜自然、获得解放的逻辑，转变为社会统治的逻辑，再到马尔库塞全方位地展开对形式逻辑在现代西方社会的政治意识过滤功能的批判，整体性地展现着这一学派在逻辑理论方面所独具的政治批判特色。可以说他们在逻辑学研究方面开拓了一个新的领域，即逻辑政治学。一、形式逻辑的功能转向及其社会条件对于形式逻辑的研究，法兰克福学派的理论家们赋予其新的研究视角，这就是从思想和社会历史发展相结合的角度，揭示其社会政治的功能。其中有一个思想是值得我们注意的，就是认为形式逻辑发生了一种性质和功能的转向，即由支配自然的思维工具转变为对人统治的工具。他们认为人们的思维逻辑，无非是否定性的辩证思维逻辑和实证性的形式思维逻辑；或者说，存在着对现行社会制度进行批判和为现行社会制度辩护两种思维方式。在技术合理性操纵的现代工业社会以前的一切历史时代中，一直存在着否定性思维与实证性思维的冲突。否定性思维倾向于改造直接经验世界，并用现实的对抗性社会结构取代之，建构起否定的逻辑；而实证性思维则努力建构把现实理解为合理的逻辑。现代西方社会，在当前科学技术进步的条件下，发生了从否定性思维向实证性思维的转变，实证哲学极力扼杀矛盾思维，憎恶对现状的超越，产生了与技术合理性一致的统治逻辑。形式逻辑作为一种统治和支配的思维工具，形成的现实基础就是人类对自然的控制活动和人类的交换、商业活动。一方面，在人类征服和控制自然的活动中，“思想借助这种逻辑可以彻底地从自然界中解放出来，……人们通过思维脱离了自然界，把自然界改造成他们想支配的那样。就像那些在不同情况下都同样被应用的东西、物质工具一样，就像把世界作为混沌一团、纷繁复杂、自相矛盾的现象而区别于已知的东西、统一的东西、同一的东西一样，概念是人们用来概括所掌握的一切东西的思想工具。”（注：霍克海默、阿多尔诺：《启蒙辩证法》，重庆出版社1993年版，第34页。）另一方面，当西方进入近代资本主义社会，商品交换发展到了鼎盛时期，为形式逻辑发展确定了重要的社会基础。交换原则把人类劳动还原为社会平均劳动时间的抽象的一般概念，形成了逻辑的同一性原则。商品交换是这一原则的社会模式，没有这一原则就不会有任何交换。霍克海默和阿多尔诺据此认为：“启蒙精神首先只有通过统一的现象才能认识存在和所发生的东西；统一现象的理想典范是一切言行遵循的制度。形式逻辑是统一化的大学校，它为启蒙者提供了预计世界的公式。”（注：霍克海默、阿多尔诺：《启蒙辩证法》，重庆出版社1993年版，第5页。 ）也即商品交换行为需要有同一的尺度，形式逻辑为掌握这种同一尺度提供了必要的思维方式。阿多尔诺认为，历史地看，形式逻辑作为思维的中介，在人类历史进步中，是一个必要的环节，这一原则的扩展使整个世界成为同一的，成为总体的。正是通过交换，不同一的个性和成果成了可通约的和同一的。自古以来，等价物交换的主要特点是在不同等的事物之间以同一尺度来交换。假如可比较性作为一个尺度范畴而被简单地取消了，那么，内在于交换原则中的合理性就会让位于直接占有，让位于暴力和垄断阶层的特权。因此，不能抽象地否定这一原则。然而，现代西方社会的发展，使形式逻辑的进步的、积极的功能发生了逆转和变异。现代西方社会中流行的逻辑，反映着政治现实，体现的是统治合理性的内在因素。这种统治逻辑，表现出了无矛盾和无超越的共同特点，它们起着意识形态的作用，成为现实的不可缺少的一部分。它就像用锁链紧紧地把思维束缚住，不允许思维超出既存的东西去探询和寻求解决办法。二、形式逻辑功能转向的内在依据形式逻辑曾经在历史上作为思维的中介，在人类历史进步中，是一个必要的环节。然而在现代社会中，它从一种人类战胜自然的解放的逻辑，转变成了社会统治的逻辑。这一切的发生有其社会历史的根源和条件，同时，在法兰克福学派看来，形式逻辑本身，就蕴涵着这一变化的可能性，这就是：首先，形式逻辑是与其内容相脱离的，它不关心自己的对象。马尔库塞指出：“在亚里士多德的工具论中，三段论法的‘项’是‘完全缺乏实质意义的，以致一个字母就是完全相等的替代物’。……在形式逻辑中，组织思维的方式是一种与柏拉图的对话方式大不相同的方式。在这种形式逻辑中，思维对它的对象漠不关心。不管这些对象是精神的还是物质的，不管它们是从属于社会还是从属于自然，它们都服从于同样的组织、演算和结论的一般规律――但它们被抽象掉它们特殊的‘实质’，成了可替换的符号或记号。”（注：马尔库塞：《单向度的人》，重庆出版社1990年版，第116页。）霍克海默也认为， 形式逻辑和数学命题不能从经验材料中推导出来，现代逻辑宣称它不包括任何东西，根本没有内容，它的句子不应揭示任何现实内容。这种逻辑之所以叫做形式逻辑，就是因为它只是使用符号要素，而不管符号要素与实在的关系，即不管其内容的真假。由于形式逻辑只关心形式的方面，因而只能依据现存制度，形式地理解生活，无法认识人的生存的真谛。这就有助于形成这种逻辑在现存社会中迫使思想顺从制度的功能。因此，“现代逻辑根本无视这种关系（指形式与内容的关系――自己注）。它的成就仅仅与实践的合理性、与一种根本现存形式复制生活的思想有关。它的整体结构和它提出的所有定律都服务于这个目的。”（注：霍克海默：《批判理论》，重庆出版社1993年版，第166页。）其次，形式逻辑所固有的形式上的中立性，使人们的思维无法适用于对现实矛盾的揭示。马尔库塞指出了形式逻辑的这一特点：“在古代逻辑和现代逻辑中，逻辑的程序方法是很不相同的，但在这所有差别背后，建立了一种普遍有效的、在物质内容上中立的思维秩序。早在技术的人和技术的自然呈现为合理控制和演算的对象之前，头脑就已经变得易受抽象概括的影响。那些能被组织进一种齐一的逻辑体系中、不具有矛盾或具有可管理的矛盾的术语，同一些并非这样的术语相分离；于是形成了思想的一般的、可演算的、‘客观的’向度同特殊的、不可演算的、主观的向度之间的区别；后者只有通过一系列还原，才能进入科学。”（注：马尔库塞：《单向度的人》，重庆出版社1990年版，第117 ～118页。）由于形式逻辑的这种中立性， 使人们关于本质和现象相冲突的概念变得毫无意义，物质的内容被中性化，同一原则与矛盾原则相分离，终极原因脱离了逻辑的秩序，所有这些在某种意义上导致了对现实的歪曲。总之，形式逻辑中立性使概念成为支配和控制的工具。因此，形式逻辑是走向崇尚科学思维、适应技术的合理性的漫长道路上的第一步。第三、形式逻辑所崇尚的同一性，它排斥着人们的个性思维和追求。阿多尔诺认为，形式逻辑崇尚同一性原则，它与非同一性思维方式不同。他把现代人类绝对理性解释成非同一性，意指不同于客体的具体存在，他强调思维追求不同于客体对象的非同一性事物，并且由此从客体性中解放出来。在阿多尔诺看来，这种非同一性事物恰恰是人类在现实生活中所失落的绝对理性真实之所在。因为，非同一性作为一种绝对超客体的存在，其具体所指便是人的具体个性存在。鉴于现实生活对人类具体个性的排斥，阿多尔诺强调了非同一性的现实的意义，这个非同一性因此也就是对人类具体个性的认同。逻辑的同一性原则则倡导个体与现存社会保持同一，它排斥人类具体个性差异，从而构成其功能转向的一个方面。所以，形式逻辑的同一性，也具有一种对人控制支配的意识形态的因素。“甚至在形式逻辑中，同一性的假定也的确是纯思想的意识形态的因素；但隐藏在其中的还有意识形态的真理要素，即规定不应有矛盾，也不应有对抗。在简单的同一性判断中，实用主义的、控制自然的因素已经和一种乌托邦的因素结合起来。”（注：阿多尔诺：《否定的辩证法》，重庆出版社1993年版，第147页。 ）形式逻辑的同一性实际上表现的是西方社会把它对个性自由的压抑，强化为思维的一般规则，进而使之成为西方反叛性政治意识形成的障碍。三、现代西方社会形式逻辑作为统治逻辑的政治功能形式逻辑作为一种社会统治逻辑，其功能就在于它对人们的政治意识进行过滤，维护着现存的社会制度。弗洛姆认为逻辑是西方社会政治意识过滤机制的重要组成部分，在这个过滤机制中，除了语言和社会禁忌，“逻辑是第二个层面，来决定人如何思想，来决定何种经验得以被我们觉察到。”（注：弗洛姆：《禅与心理分析》，中国民间文联出版社1986年版，第159页。 ）逻辑是作为一种特定文化中直接指导人的思维规律，它在相矛盾的经验中识别谬误，可因其“违背逻辑”或“荒谬绝伦”而阻止其通过。在此一文化领域中符合逻辑的可以进入意识层的情感、体验，在另一个文化领域中却未必符合逻辑，未必会进入意识层次。这些不符合逻辑的情感和体验就成为社会无意识的一部分。于是，不符合逻辑的便不能进入人们的意识层面。马尔库塞进一步揭示现代西方社会形式逻辑对政治意识过滤，是通过这样一些具体的方式来进行：首先，形式逻辑使思想净化掉矛盾，净化掉否定现存社会的经验和力量。法兰克福学派的理论家们指出，形式逻辑表面上远离现实、远离社会政治生活内容，但它并非真的就是纯形式、纯抽象的。马尔库塞说：“最形式化的逻辑领域，也要涉及既定的被经验的世界最一般的结构；纯形式仍然是它加以形式化的内容的形式。形式逻辑的观念本身就是发展普遍控制和演算的精神和物质工具的一个历史事件。在这一过程中，人不得不从实际的不协调中创造出理论的和谐，使思想净化掉矛盾，在复杂的社会和自然过程中使可辨别的和可替换的单位实体化。”（注：马尔库塞：《单向度的人》，重庆出版社1990年版，第117页。 ）无论是现代数理逻辑、符号逻辑，还是古典的形式逻辑，它们都是同辩证逻辑彻底对立的。这种对立就在于，新旧形式逻辑表达着同样的思维方式，即它净化着关于现存社会的否定性经验。“随着这种经验被排除，那种保持‘是’和‘应该’之间的张力并以自身的真理来颠覆既定言论领域的概念力量，很可能从一切客观的、准确的和科学的思想中被排除掉。”（注：马尔库塞：《单向度的人》，重庆出版社1990年版，第 119页。）其次，形式逻辑使思想局限于盲目地再现存在的东西，局限于反映等级和强制的制度。法兰克福学派认为，当思想归结为逻辑和数学公式时，世界也就用这种尺度被认可。一切服从于逻辑的公式的、作为主体理性胜利所表现出来的，都是以理性顺从直接出现的东西的形式表现出来的。它使认识局限于重复，使思想只是同义反复。他们还指出，逻辑和科学的演绎形式还反映了等级制度和强制制度。正如最初的范畴表现了有组织的部落以及这些部落支配个人的权力一样，整个逻辑顺序表现了与社会现实、分工处于相应关系中的概念的相互依赖、交织、包含和概括的状况。那种人类社会的统治原则，同时也在精神上被逻辑化：形成概念与概念臣服的东西之间差别的原则。这种差别采取了逻辑的矛盾形式，任何不服从统治原则的东西都将表现为对逻辑的违反。第三，形式逻辑为政治生活经验和意识的形成确定先验的逻辑格式。哈贝马斯认为，形式逻辑是先验意识的理性结构框架，在社会政治生活中，人们总是用先验的“范畴”去“组织经验”并加以“先验的解释”，总是“在一定的基本概念的体系框架内去先验地并且前科学地组织自身的经验，并依此而正确地对科学的客观领域形成预断”。形式逻辑作为一种先验理性框架，它根据现存制度安排和统治的需要，来确定那些有利于维护社会制度的经验和体验，使之被组织为人们的社会政治意识。而那些对现存制度造成威胁的体验和经验，则受这种先验理性框架的排斥，而被压抑在无意识层面。总之，形式逻辑实质上已经成为统治原则在精神上的逻辑化。四、法兰克福学派逻辑批判理论的评析法兰克福学派认为形式逻辑在今天构成压抑意识形态之网的一个部分。它净化了思想的矛盾，取消了人们思维的辩正向度，反映了现实强制的等级制度，使认识局限于重复、从属于并且盲目地再现现存的东西，为政治生活经验和意识形态形成确定先验的逻辑形式。不过西方也有的学者，如英国的阿・麦克伦泰，对法兰克福学派的形式逻辑学批判持反对意见。他认为，首先，形式逻辑是人们正常思维所必须的，不管人类历史上某个时刻是否出现逻辑学。而马尔库塞的错误就在于，他把符合逻辑规律与不符合逻辑规律的思想之间的区别给取消了。而且，把形式逻辑隐喻为控制的逻辑是不恰当的。其次，马尔库塞的指责是基于什么是逻辑学和逻辑学能够获得什么的误解上。逻辑学不是一系列便于作出新发现的规则，不是一个启发性方法。无论是构造假说还是对这些假说进行演绎以求检验，我们不可能不依靠逻辑学规律，并且可以列举形式逻辑学家们在确定各种假说时得出的各种新发现。但是，逻辑学不是主观想象，而构造假说必定是一项想象性的工作。最后，马尔库塞使逻辑学不仅成为形式问题而且成为内容问题，这恰恰危及了逻辑学的非意识形态特征。事实上逻辑学是主题中立的，只有服务于正确的论点并通过逻辑学的这种主题中立特征，才能使我们利用这种特征批判各种论点的确立方式从而超越它们。既然马尔库塞要揭示现代社会的非理性主义和识别其渊源，而他又不能理解逻辑学在知识问题中的作用，这就预示了他的整个探讨的失败。阿・麦克伦泰对马尔库塞的批评，概括起来就是说，他轻视形式逻辑的思维规则，同时对形式逻辑的功能又有过高的要求，否认形式逻辑的非意识形态的中立性。他尖刻地批评说：“由于马尔库塞对他所批判的人不可一世的横加嘲弄，因此有必要指出：我所展开的论点是最基本的论点，稍具逻辑学知识的学生都熟悉这一点。因此产生了这样一种怀疑，即不仅马尔库塞而且阿多尔诺和霍克海默实际上都不懂逻辑学；并且确实存在着这样的情况，假若他们三人确实稍微懂得一点逻辑的话，那么他们对其公开批判的自己那一点逻辑知识就会尽力不露声色了。”（注：阿・麦克伦泰：《“青年造反哲学”的创始人――马尔库塞》，湖南人民出版社1988年版，第96页。）阿・麦克伦泰作为一个逻辑学家对法兰克福学派的批评，在我看来并没有把握其批判性精神，是片面和过激的，纯粹是从维护形式逻辑的科学性出发。而事实上，法兰克福学派的理论家们并不是在展开一场对于形式逻辑的不同学术观点的学院式的争论。虽然他们对形式逻辑进行批判，着眼点却是社会批判，侧重的是把形式逻辑放在资本主义社会对人的控制的总体上来认识。这种认识远比关于形式逻辑的纯学术的争论更深刻、更富有新意。具体表现在：首先，这种研究揭示了由逻辑的规则架构起的逻辑体系维护着现代西方社会制度，有其对现实社会的认识意义。法兰克福学派的形式逻辑批判强调的是，在现代西方社会中逻辑被工具化了，而由逻辑的规则架构起的逻辑体系维护着现代西方社会制度，是资本主义社会技术合理性的一部分。现代西方社会使逻辑丧失总体性，成为一种片面性的东西，用马尔库塞的话说是一种“单向度”性，它是现代西方社会制度专制特性在逻辑上的反映。所以，应从现代资本主义这一“单向度”社会的总体上来理解逻辑的“单向度”性。因而，马尔库塞把对这种形式逻辑的否定视作是对现代资本主义社会进行批判的一部分，这有他的积极意义。其次，这种研究认为形式逻辑在现代西方社会具有一种意识形态性，这是具有启发性的，有其逻辑理论批判意义。根据马尔库塞的分析，形式逻辑使思想净化掉矛盾，净化掉否定现存社会的经验和力量，反映着资本主义的新的等级制度和强制制度，它把人的思维引向一个它所需要的方向，使认识局限于重复，从属于、盲目地再现存在的东西，把人的思想限制在一个特定的框框里，从而维护和参与着资本主义社会的“技术统治”。所有这些都表明形式逻辑在现代西方社会的意识形态特性。第三，这种研究表明形式逻辑使西方政治统治具有如此的合理性，以至连否定性思维赖以进行的逻辑基础都不复存在，更不用说能够唤起批判现实的行动了，这对西方社会变革的实践具有警示意义。在法兰克福学派看来，形式逻辑的消极功能产生于它的同一性原则。而实际上形式逻辑在现实中的运用，是无法把形式与它所要表达和掌握的内容完全分离的。因此，他们强烈抨击同一性原则，认为“把同一性定义为自在之物与其概念的符合，这是罪孽”；指出形式逻辑作为与现实存在相协调和相同一的、与辩证逻辑相对立的单向度的思维方式，已经被同化于极权主义之中。在西方极权主义的时代，技术合理性获得了形式逻辑的配合，已经把整个社会和所有人的意识都纳入了单向度的思想。正是这种单向度思想的出现，湮灭了人们对现代西方社会非人性制度的反抗意识和行为。法兰克福学派对形式逻辑在资本主义社会制度下运用的负面影响的揭示，对资本主义社会制度及其意识形态的批判无疑具有积极的进步性质。但是，也必须看到，他们的批判是有缺陷的。首先，他们在逻辑形式层面上批判现代资本主义，显然没有触及其本质。所以，他们发现了形式逻辑的意识形态性，但不能正确认识它在西方社会政治统治中的地位。其次，他们对形式逻辑和资本主义社会的单向度的否定，是一种“纯粹的批判”，他们未能看到形式逻辑的对政治现实的依附性关系有其社会制度的条件，它是资本主义社会特有的表现形式。他们未能看到，形式逻辑成为对人的压抑和控制的意识形态之网，根源于现实的社会政治生活。最后，他们在强调形式逻辑在社会政治生活领域中的消极功能时，忽视了形式逻辑作为科学思维方式存在的必要性；至少未在这方面进行必要和充分的论述，从这一点看，阿・麦克伦泰的批评倒是有其合理性。收稿日期：2000―03―01【责任编辑】李萍\\\\t, 类型选项:[\\'Medical\\', \\'Transport\\', \\'Literature\\', \\'Art\\', \\'Computer\\', \\'Sports\\', \\'Electronics\\', \\'Enviornment\\', \\'History\\', \\'Education\\', \\'Military\\', \\'Mine\\', \\'Law\\', \\'Energy\\', \\'Economy\\', \\'Politics\\']\"}, {\"role\": \"assistant\", \"content\": \"Politics\"}]', '[{\"role\": \"system\", \"content\": \"你是一个文本分类领域的专家，你会接收到一段文本和几个潜在的分类选项，请输出文本内容的正确类型\"}, {\"role\": \"user\", \"content\": \"文本:【 文献号 】3-490\\\\t【原文出处】《文史哲》\\\\t【原刊地名】济南\\\\t【原刊期号】200102\\\\t【原刊页号】57～62\\\\t【分 类 号】J4\\\\t【分 类 名】外国文学研究\\\\t【复印期号】200108\\\\t【 标  题 】论“春秋竞怜判歌”的艺术表现――《万叶集》第一卷第十六首歌的研究与欣赏\\\\t【 作  者 】肖霞\\\\t【作者简介】肖霞(1963-)，女，山东临沂人，山东大学外国语学院副教授，博士生。山东大学外国语学院，山东济南\\u3000250100\\\\t【内容提要】《万叶集》是日本第一部纯文学的和歌总集，其作者之一额田王是万叶初期的女歌人。她的歌受到中国汉诗文审美艺术的影响，在\\\\t一定程度上反映了日本和歌由记、纪歌谣向正规和歌类型转变的最初形态。从她身上可窥见到过渡时期歌人所具有的古代性和现代性的交融。【关 键 词】万叶集/春秋竞怜/额田王\\\\t【 正  文 】\\\\t中图分类号：1106.2\\u3000\\u3000文献标识码：A\\u3000\\u3000文章编号：0511-4721(2001)02-0057-06和歌是日本韵文学最古老的形式之一，是短歌、长歌、片歌、旋头歌等几种相近歌体的总称，其中最流行的是短歌。《万叶集》是日本文学史上第一部纯文学的和歌总集，结构宏大，作者广泛，可以说包括了社会的各个阶层。著名的歌人有额田王、柿本人麻吕、山上忆良、山部赤人、坂上郎女、大伴家持等。《万叶集》共分为四个时期：第一期(629-686)是和歌的诞生时期；第二期(687-709)是长歌定型的时期；第三期(710-733)是和歌反映深刻的思索、丰富的内涵并逐渐走向成熟的时期；第四期(734-759)是以大伴家持为首的歌人创作的和歌走向抒情性和内省性的时期。一、额田王与“春秋竞怜判歌”额田王（生卒不详），是万叶初期（第一时期）最具代表性的歌人，曾服务于齐明、天智、天武天皇，并与天智（中大兄）、天武（大海人皇子）天皇保持浪漫的三角恋爱关系。作为宫廷代作歌人，以巫女和祭祀采女的身份活跃于宫廷。在她的一生中共作长歌3首，短歌9首，歌中充分反映了她所具有的传统的巫女性、咒术性和宫廷性。她的和歌渗透着大陆文化的熏陶，体现着她所具有的大陆文学素养。从《万叶集》第八首“熟田津”歌所表现出来的男性气概，到第16首“春秋竞怜判歌”以及第十首（下近江时作歌），从构思到技巧，都能看到她所受到的汉文学的影响。她在第16首歌和第20首歌中所运用的美学手法“风流”、“风雅”、“优美”以及“虚幻”，为以坂上郎女为代表的女性歌人所继承，并直接影响到平安时代的女流文学作家――清少纳言、紫式部，其抒情性和她从中国古代诗歌中学得的反复和对偶表现，被后代的作家所继承。她的代作歌人，宫廷歌人的性质成为第二期的歌圣――柿本人麻吕的先哲。她是日本和歌史上第一位闪光的女性歌人。“春秋竞怜判歌”是额田王的第一首长歌，是“天皇诏内大臣藤原朝臣竞怜春山万花之艳，秋山千叶之彩时额田王以歌判之之歌”。其歌词如下：附图{图}译成汉语：寒冬今已去，阳春遂重还；百鸟久未鸣，而今妙音啭；百花久未放，于兹乃盛开；惜乎山路密，欲入采摘难；惜乎芳草深，名艳不可攀；转思三秋时，红叶可取玩；枝头青翠色，流连任赏观；为有此般恨，吾心爱秋山[2](P19-20)。题词中的天皇是指天智天皇，内大臣是服务于宫廷的臣首，藤原朝臣是指藤原镰足。镰足被授于内大臣之位，并被赐于藤原之姓，是在天智天皇御薨的前几天，即天智八年（669年）十月十五日。万花之艳是指花之美丽，千叶之彩是指红叶之美。竞怜是对以上两者争其优劣，即所谓的春秋之争，文艺上的游戏。二、创作背景这首歌的创作，是在近江迁都之后。近江迁都是在667年3月19日，即中大兄皇子在朝鲜半岛的白村江战败之后的第四年，都城从大和迁至近江的志贺。第二年，中大兄在近江的大津宫正式即立，为天智天皇。为了摆脱战败后的危机，再一次沿用大化改新的新政路线，充实国力，出现了太平盛世。这与当时作歌的背景正好相符。此歌是在迁都之后的某一雅宴上，天智天皇身居高座，召集群臣，左为元老藤原镰足，右为宫中侍女，天皇将春山万花之艳与秋山千叶之彩哪个更有情趣这一命题通过镰足问群臣，群臣纷纷以汉诗论争，迟迟不能决断，最后，额田王以和歌加以判之。天智天皇在位期间，颁布了近江令。近江朝前后，以大化改新、近江令、飞鸟净御原令为中心，就政治、文化各个方面开始了大规模的唐风摄取、移植运动。朝廷要求贵族、官僚熟习汉文学，积极摄取大陆文化。当时，宫廷文风昌盛，出现了所谓的近江朝文化开花时期。当时的各路官僚竞相入学匠之门，努力钻研汉学。不久，近江朝设置“大学寮”。《怀风藻》序文中这样写道：“逮乎圣德太子、设爵分官、肇制礼义。然而专崇释教、未遑篇章。乃至淡海先帝之受命也。恢开帝业、弘阐皇献。道格乾坤、功光宇宙。既而以为、调风化俗、莫尚于文、润德化身、孰先于学。建庠序、征茂才、定五礼、兴百度。”[3](P201)当时汉文学空前盛行，作为经世之学，其教科书可推为《周易》、《周礼》、《尚书》、《毛诗》、《春秋左氏传》、《论语》等。通过学习汉文学，并逐渐发展到对作诗、作文的倾倒。这样，作为男性文学的汉诗文逐渐压倒和歌，如《怀风藻》序文所述：于是，三阶平焕、四海殷昌、旒纩无为、严廊多暇。旋招文学之士，时开置醴之游。当此之际，宸翰垂文，贤臣献颂。雕章丽笔，非但百篇。但时经乱离，悉从煨烬。”[3])P201)近江朝前后的文学，是以朝廷为中心展开的，大友皇子、河岛皇子、大津皇子等大约有十一首留世。主要有：大友皇子《侍宴》、大津皇子《春苑宴》（属宴席之诗）、大津皇子《游猎》、葛野王《春日玩莺梅》（诗会中伴有美酒）。以上诗文都可证明《怀风藻》的“开置醴之游”之句。此外，还有大友皇子《述怀》、大津皇子《述志》、释智藏《秋日志》，这些都属于抒发作者内心情怀的一类诗，其中最为引人注意的诗歌是“述怀”。与此相类似的诗题在中国有六朝以来的《咏怀》，例如阮籍的《咏怀诗十九首》，就特别有名。除此之外，还有北周庾信的《和张侍中述怀》、晋人张载的《述怀诗》、支遁的《述怀诗三首》、初唐有魏征的诗、唐太宗的《还陕述怀》等。关于“述怀”一词是通过什么途径传到日本的不得详知，但《庾信集》（大日本古文书三，天平二十年条）传到日本可追溯到近江朝[4](P59)。三、“感物兴情”的创作艺术这首和歌中值得注意的是开头的部分，“春天一到，以前飞走的鸟回来开始鸣叫了，并且一度谢了的花又开了……”，首先提到“鸟”与“花”，并将其作为一对加以歌咏。在万叶初期的额田王时代以及再往前追溯的记、纪歌谣里虽有关于花、鸟的表现，但没有将“花”、“鸟”作为对子加以歌咏的事实，可以说，最早将花、鸟放在一起歌咏的，应从额田王的这首歌起。当然，其后还有很多。这首歌是在日本文学史上第一次歌诵风流的自然观的作品，但是，这种自然观在日本并非自然产生的。在原来以农业为主的日本，自然与生活密切相关，人们将天地，山川作为神灵崇拜，为预祝丰收，往往拜伏其前进行祈祷和祭祀。那时，还没有将自然当作美的对象进行欣赏的余裕。但这首歌却是将自然从生活中分离出来，以余裕之心进行鉴赏的。额田王把中国优美的季节感固定在和歌之中，这反映了和歌从口承的歌谣，向富有个性的艺术发展的端倪。这是因为大化改革以来，社会制度急剧变革，文化的进一步发展使宫廷贵族产生了更多的余情玩味生活与自然，当然，更应引起重视的是，其背后有来自中国博大精深的汉文化的影响。在这首和歌中，“花”是什么花，“鸟”是什么鸟？都未加细说。但从句首的“冬ごもり春さり来水ば来看，梅花的可能性较大。梅花以其凌寒独放、先报春回的坚贞品格，以其素雅不艳、温馨不浓的幽姿逸韵，历来深受中日两国文人的喜爱和推崇，吟咏梅花的古典诗作不仅数量繁多，而且不乏名篇佳作。在中国，早在公元前几百年的《诗经》中便有五处咏梅，汉代的乐府横吹曲中也有《梅花落》。但梅花真正成为观赏对象，则是进入六朝之后。据池田彦胜考证，梅花传到日本应在奈良朝之前，即由初期遣唐使连同大陆文化一起带回日本的。从此，欣赏和厚爱梅花的文艺思潮也随之在上层贵族官僚中间传播开来。进入万叶时代，咏梅的和歌显著增多，以至达到“梅”几乎成了“花”的代名词的程度。《万叶集》中涉及到的植物约有160种，歌1548首，几乎占总数的三分之一。基中ｑｉū＠①花最多，有173首，梅花次之，100余首。及至《古今集》问世，由于时代的发展和艺术风尚的变化，梅花之花坛翘楚地位才渐被樱花诗而代之。但尽管如此，在“四季歌”的咏花之作里（共134首），咏梅诗仍有24首（樱花为71首）。小岛宪之举出了僧人释智藏（近江朝――持统朝）的“玩花莺”一诗：求友莺树嫣，含香花丛笑。另有一首葛野王的诗：素梅开素靥，娇莺弄娇声。从中可看出，诗中所提到的“莺”是指“黄莺”。笔者认为将“花”、“鸟”作为一种具有何种性格的事物加以表现，这是遵从了日本人自古以来的思维方式。日本人认为，花、鸟是富有生命力的物种，是显示旺盛的生命力的吉兆。有关花、鸟的表现，虽在更早的记、纪歌谣里已经出现，但将二者组合在一起吟咏的花、鸟诗，绘在一起的花、鸟画或以花鸟为题材的诗还没有出现，而在当时中国的六朝、初唐，以花、鸟作诗、作画的风气已十分盛行。在这首歌中，额田王特意以花、鸟成对入歌，来表现万物复杂，春意盎然的景象，使人从中感受到春天生机勃勃的生命力和喜悦。这无疑是受了中国花、鸟诗的影响。六朝、初唐的花鸟诗以及受其影响的汉诗集《怀风藻》的花鸟诗，特点在于把花鸟作为美的直观对象、客观的景物来加以歌咏。《万叶集》中，把花鸟当作客观景物来歌咏的“花鸟歌”，其真正开始创作是在第四期大伴家持的作品中。例如《万叶集》第5卷第824首歌：梅花飘散落，痛惜岂无声。我苑竹林里，黄莺正乱鸣。第834首：梅花今日盛，百鸟又争鸣。鸣声诚可恋，春至一阳生[5]。我们从这首歌中看出，当时的宫廷官人对汉诗文的吸收和掌握程度，即他们已初步具有汉诗那种把花鸟一起吟咏的知识，或者说就春秋优劣各抒情怀的男性官人们所作的汉诗中，已经有了把花、鸟一起歌咏的内容。《万叶集》中出现的“鸟”，往往指莺、杜鹃、大雁等。但是到了万叶后期，其咏物歌中的花、鸟组合几乎固定下来。起初，梅与莺代表春天，后来除了原有的寓意以外，莺啼梅枝往往用来表现恋爱带来的苦闷、寂寞和无奈之情，柑桔与杜鹃代表夏天，ｑｉū＠①花与大雁代表秋天。虽然代表的季节不同，固定在一起后的寓意不同，但在万叶初期都被当作具有生命力的物神看待。四、“吾心爱秋山”的审美取向从歌的内容来看，额田王先迎合赞美春光的贵族们的口味，“百鸟音啭”、“百花盛开”。但是作者的目的在于扬秋，继而写道春光再美也有缺陷，“山路密而采摘难”，“芳草深而不可攀”。秋天的景色则不然，“红叶可取玩”，“青翠任赏观”，最后得出结论“吾心爱秋山”。额田王之所以采取这种“肯定――否定――肯定”的形式作歌，笔者认为，原因有二：（一）喜春尚秋的审美意识日本列岛，自古以来，气候湿润，四季分明。生活在这里的日本人对自然万物充满了厚爱，对季节变化关注有加。他们认为，自然中的山、水、草、木皆有灵性，人们对此只有敬畏和崇拜，丝毫不能有贬抑、扬弃之分。关于春、秋的最早记载，出现在日本最古老的书面文学《古事记》中。《古事记》中的《应神天皇记》，是一个神婚传说。在这个传说中，春山之霞壮夫凭借其母缝制的、后变为藤花的衣服、弓矢，获得娘子的信任而终成其婚。其兄秋山之冰壮夫则因毁约而受到惩罚。春山之霞壮夫温厚善良的品行，得到了象征春天的藤花所具有的神灵的帮助。这在一定意义上反映了冬春季节交替这一自然规律的不可逆转性。同时，也反映了日本人渴望春天，向往万物生长、藤花遍野的自然景色的喜春心态。其后，这种喜好一直延续下来，逐渐成为民族的审美意识。例如，在平安时代的小说《源氏物语》中，紫式部将代表春天的藤壶、紫上作为第一等的女性描写，而将喜好秋天的中宫作为第二等、第三等的人物塑造。春天万物复苏、鲜花盛开，使人充满生机。作为稻荷农业国的日本，春天又意味着播种插秧，是充满希望的季节。因此，喜春是不言而喻的。然而，额田王之所以选择秋天，从其所处的时代来看，无疑是受到了中国悲秋意识的影响。中国的魏晋时代是一个伤感的时代，外物的变易枯荣常常能引发士人各种各样的人生悲感，他们往往把这种触发的过程用一个“兴”字来表达，如“感物兴情”、“感物兴思”、“感物兴哀”等。钟嵘认为诗情既然由自然与社会中的外物所感发，在表达时就应当以“穷情写物”的效应达到“滋味”的艺术美感，也就是陆机所说的“悲情触物感，沈思郁绵绵”。面对萧瑟的秋风，中国诗人“感物兴哀”，形成中国古代文学悲秋的主题。《诗经・小雅・四月》有云：“秋日凄凄，百卉具腓。乱离瘼矣，爰其适归？”由秋天的肃杀，联想到兵荒马乱，无处栖身。屈赋《抽思》明确写道：“悲秋风之动容兮，何回极之浮浮！”汉乐府《古歌》云：“秋风萧萧愁杀人。出亦愁，入亦愁。座中何人谁不怀忧？……”庾信《拟咏怀二十七首》中其十一有云：“摇落秋为气，凄凉多怨情。啼枯湘水竹，哭坏＠②梁城。天亡遭愤战，日蹙值愁兵。”悲秋的咏叹调，在中国文学史上汇起巨大的和声，回响不绝。正如日本学者村上哲见所指出的那样：“悲秋的感情原来是《楚辞》以来直到六朝及唐诗中始终存在的主题。”这一主题确实贯穿着几乎整个中国文学史[6]P(25-26)。冈崎义惠在《古代日本的文艺》中指出；古事记的春秋两神之争，“属三韩系统的传说”，从风土记中春秋对比来看，多受中国注重对偶的文艺表现的影响。这对大伴家持等后期歌人无常观的形成有着重要影响[7]。小岛宪之则指出：对春秋以个人思考判其优劣，而肯定“秋”的额田王无疑带有中国的色调。《文选》中潘安仁的“秋兴赋”以及更早一些的楚辞（宋玉“九辩”）等的构思给她很大的影响。“黄叶をば取りてぞしのふ”一句，不是一边浮现出树叶凋落的悲哀，一边描写的吗？[4](p62)笔者认为，到齐明、天智年间，由政府派往中国的遣唐使已有五批，并有唐朝使者刘德高东渡日本，在大批唐经汉籍运往日本的同时，中国传统的诗学理论，以及六朝盛行的“缘情绮靡”的文风也随之传入日本。于是，才有了额田王的悲秋意识与“感物兴哀”对“滋味”的艺术追求。再加上歌作者额田王自身生活中的恩恩怨怨和人生流转，能够“しのふ”、“ｔàｎ＠③く”的秋天，更使她思绪万千，悲凉有余，从而在最后表明了自己的艺术情趣。由此可见，“しのふ”、“ｔàｎ＠③くく”二动词在这首和歌中的妙用和所承载的艺术价值。（二）物情交融的艺术意象从民俗学的角度来看，春天是天地间生命力最旺盛的时期，河川山岳阳气勃发，草木复苏，鲜花盛开，标志着一年的开始。古代日本人也将山河中升起的云、烟看作是苏醒的大自然之气息，当作春天的象征歌咏。鸟，特别是春天飞来的候鸟，具有灵性和咒术，与春天长出的花草一样不知从何地而来，飞翔在天地间，富有强大的生命力。为了增强生命力，古代日本人要到山间去欣赏花卉、红叶，到河畔、水池边去观赏水禽。宫廷设有“养鸟部”、“鸟取部”，并有“养鸟人”饲养、管理。因此，才有“花见”、“月见”的说法。“见る”（看）这一行为，在古代并非指单纯的感观，而是通过“看”与生命、灵魂有关的动植物从而达到强化生命力的目的。另一方面，观赏者通过“看”所产生的心理状况与被看到的动植物所具有的灵性相结合，或是调和悲哀、生气等狂燥的内心，或是使沉滞的内心浮动起来，产生新的精神。按照古代日本人的思维，不仅观赏花卉、草木以及水中游动的水禽，是一种游乐（ァ附图{图}ビ）行为，而且饮食、歌舞等的行为也是一种游乐，旨在行为过程中通过实实在在的自我解放，感情的高昂达到强化生命力的目的。如“生御调能玩物”、“弄是鹄遂得言语”等。“弄”、“玩”都是“看着玩赏”之意，即天皇通过看国造奉献的白马、白鹄而获取生命力。植物中，经过漫漫冬季春天复苏的树木，如树大叶茂的橡树、山毛榉木以及富有强烈色彩的山茶花等都被当作具有旺盛生命力的神树。另外，梅花、柑桔、杜鹃、ｑｉū＠①花、红叶等自古以来就被认为带有吉兆、咒术的性格。如以下二首歌所咏的那样：(1)国见歌（卷1.2）大和有群山，群山固不少；天之香具山，登临众山小；一登香具山，全国资远眺；平原满炊烟，海上多鸥鸟；美哉大和国，国土真窈窕。[5](2)杂歌（卷13.3222）三诸山崔嵬，人人瞩目哉；山麓何所有，马醉木花开；山巅何所有，山茶开出来；丽山引心目，如对泣婴孩；[5]以上两首和歌分别是以“群飞的水鸟”与“袅袅的炊烟”，盛开的马醉木花和山茶花当作富有生命力的吉兆，歌颂国土的富饶。联系额田王的这首和歌，可以看出，人们通过“看”（观赏）春花、秋叶能够获取生命力，然而，由于山路密采摘难，芳草深不可攀，春花最终不能不给人留下遗憾。而三秋时不仅青翠任观赏，而且红叶还可取玩。这就是说，秋天人们不仅可以“看”，而且还可以将红叶折到手中，仔细品味。这样，一方面能够使存在于植物中的灵性，径直地移到人身上来，更大限度地获取生命力，另一方面还可以通过触“物”促发感动，使人产生情趣，产生“物哀”（喜怒哀乐之相），从而达到物心合一。所以，额田王在最后潇洒地得出结论：“为有此般恨，吾心爱秋山。”五、“造化赋形，支体必双”的表现手法魏晋南北朝时期的刘勰认为，对偶有着无可置疑的合理性：“造化赋形、支体必双；神理为用，事不孤立”[8](p83)。自然之物皆有对应的双方，故“丽辞”是合乎“神理”的。对于对偶这一表现手法，额田王有意识地将其运用到和歌的创作之中。记、纪歌谣与万叶初期的长歌相对来说比较短，具有大体相等的长度，在某种程度上继承了古代咒术歌的传统，具有言灵特征。当时，长歌多采用对句的形式，和歌中的对句，比汉诗文的对句包括的范围大，也更加灵活。冈部政裕将万叶长歌的对偶归纳为四种：短对、长对、连对、并对[9]。它反映了汉诗文影响日本之前万叶和歌的固有实态。从初期万叶长歌到壬申之乱前的长歌，总共8首，包括到持统初年（除了人麻吕之外）共11首，从中可归纳出以下几个特点：(1)初期万叶长歌全都运用对偶的形式，而且在每首歌的总句数中，对偶所占的比例非常大。(2)它所使用的对偶与汉诗文意义上的对偶不能相等。即是说，它们只不过是反复和替换说法。如在第16首和歌中，第7-10句是单纯的替换。(3)这些和歌都是四句一组，二句成一单位，并构成对偶。在记、纪歌谣中，10句以上的和歌约占80%，长歌较多。第13卷中长歌的80%含有对偶，但几乎都是替换和反复。除了几首例外，大部分是短对。可以说，替换是对偶的原初形态。折口信夫认为，可以将“对偶”的使用看作是“神灵附体狂舞时的语言”，是非日常语言的表现形式之一。在非日常语言中，不管是否意识到，目的都是对重要部分的强调。柳田国男认为：“原来像诗歌那样需倾注力量的语言，屡次使用对偶是东方文艺的一大特色。其中，充满艺术性格的抒情歌是最显著的。每遇什么大事时，如果不进行两次稍微改变说法的反复就心神不安，即使像太阳那样独有的对象，在加以赞美时，必定排有两种说法。”[10](P6)这来自歌谣的母体是人神交融的盛大场面。以记、纪歌谣、初期万叶长歌的反复、替换为特征的对偶，与受汉诗文影响之后的以整齐美为特征的对偶具有本质的不同。其原来的形式是在口诵水平上强调重要的部分或是表现全体，它在受到汉诗文的影响的同时，逐渐向着自觉对偶的文学表现形式发展。如本首歌，从其结构来看，是由三组对偶句构成：(1)百鸟久未鸣，而今妙音啭；百花久未放，于兹乃盛开；(2)惜乎山路密，欲入采摘难；惜乎芳草深，名艳不可攀；(3)转思三秋时，红叶可取玩；枝头青翠色，流连任赏观；从以上三组对偶中可以看出，同一动词的多次重复，如“取る”出现了三次；“见る”出现了两次；“取る”与“置く”又是反义词。中西进认为：“此歌将春秋两季分段描写，最后得出结论，属典型的复式长歌；因这种形式在记、纪歌谣中没有出现，可看作是新体的长歌。”[7](P142)这种运用对偶与反复的写作技巧与汉诗的写法非常相近。例如，初唐遣唐僧释辩正的“在唐忆本乡”一诗：日边瞻日本，云里望云端；远游劳远国，长恨长安。葛野王的“春日莺玩梅”一诗：素梅开素靥，娇莺弄娇声[4](p61)。这些都暗含着对汉诗文的模仿、学习，并在和歌创作中灵活运用。如她的另一首佳作“额田王思近江天皇作歌”（卷4、488首）：怀念人难逢，待君一片情；吾门帘幌动，缓缓送秋风[11](p13-14)。镜王女作歌（卷4、489首）：期待秋风至，亦为堪羡事；风如同待人，何许悲叹之[11](p14)。由此可见，反复已成为近江朝文学的特色之一。我们可以从中看到，六朝文学的影响以及在“诗”与“歌”的交流期间，“诗”向“歌”的流变过程和二者的交融情况，从而总结出近江朝文学的特色。我们从这首歌所表现出来的明显的季节感，可以断定它是日本有关季节的最早的汉诗模仿。其中，歌中触及的春秋出现在柿本人麻吕的歌（《万叶集》卷1,38首）中：青垣山上神，贡物非渔猎；春来插鲜花，秋来插红叶[5]。“春花秋叶”的条文最早出现在常陆风土记的筑波岳条中。《晋书・四夷倭人》中有如下记载：“不知正岁四节，但计秋收之时以为年纪”。《魏志・倭人传》裴松之注中也如此写道：“魏略曰，其俗不知正岁四节，但计春耕秋收以为年纪。”如果这些记载属实的话，春秋意识无疑来自农耕生活之中。而中国的季节观同样起源于“春耕秋收”的农耕生活，可以看作是其文雅情趣产生的基础。在近江朝大规模吸收中国文化的同时，额田王首先将其运用于和歌创作之中。由此看来，额田王仍处于中国文雅的创始期，是试将中国文雅情趣运用于和歌创作的第一位歌人。总之，额田王作为从记、纪歌谣到万叶和歌过渡时期的宫廷女歌人，在她身上存在着混沌的古代性和现代性。她第一次将春秋两季作为审美对象从自然中分离出来，开创了超越现实生活的风雅世界和以歌对诗的体裁。她积极地吸收中国文化，并运用于和歌的创作，开辟了以“物”知“哀”的审美意识，这些都为日本古代文学理念的产生和后世歌人的创作打下了基础。她在日本上古文学史乃至整个日本文学史上的地位是不可轻估的。【参考文献】\\\\t[1]ｗā＠④田空穗．万叶集评释：第1卷[M]．东京：东京堂出版．[2]彭恩华．日本和歌史[M]．上海：学林出版社，1986.[3]谷馨．额田王[M]．东京：早稻田大学出版部．[4]小岛宪之．近江朝の文学―诗和歌[A]．万叶集Ⅲ（日本文学研究资料丛书）[C]．东京：有精堂，1997.[5]杨烈译．万叶集（上、下）[M]．长沙：湖南人民出版社，1984.[6]关森胜夫，陆坚．日本俳句与中国诗歌[M]．杭州：杭州大学出版社，1996.[7]中西进．万叶集の比较文学研究[M]．日本：樱枫社．1963.[8]萧华荣．中国诗学思想史[M]．上海：华东师范大学出版社，1996.[9]冈部政裕．万叶长歌考说[M]．日本：风间书房，1970.[10]大田幸惠．“对偶”论序说――记纪歌谣及初期万叶长歌的“对偶”[A]．国语国文学，1978,(55-54).[11]李芒译．万叶集选[M]．北京：人民文学出版社，1998.字库未存字注释：＠①原字艹下加秋＠②原字木加巳＠③原字叹繁体＠④原字穴下加洼, 类型选项:[\\'Computer\\', \\'Economy\\', \\'History\\', \\'Sports\\', \\'Philosophy\\', \\'Education\\', \\'Art\\', \\'Medical\\', \\'Transport\\', \\'Electronics\\', \\'Mine\\', \\'Communication\\', \\'Space\\', \\'Energy\\']\"}, {\"role\": \"assistant\", \"content\": \"Art\"}]', '[{\"role\": \"system\", \"content\": \"你是一个文本分类领域的专家，你会接收到一段文本和几个潜在的分类选项，请输出文本内容的正确类型\"}, {\"role\": \"user\", \"content\": \"文本:【 文献号 】1-1076\\\\t【原文出处】世界历史\\\\t【原刊地名】京\\\\t【原刊期号】199602\\\\t【原刊页号】72-80\\\\t【分 类 号】K5\\\\t【分 类 名】世界史\\\\t【 作  者 】刘文鹏\\\\t【复印期号】199606\\\\t【 标  题 】古代埃及的年代学与历史分期\\\\t【 正  文 】\\\\t自１８２２年埃及学诞生以来，至今已有百余年的历史。作为埃及学的构成环节之一的年代学问题，虽然已经得到了基本的解决，但是，仍然还没有一个能够完全令人接受的古埃及历史年代的纪年，特别是其早期的历史年代，各家的断代时间差异甚大，让人无所适从。至于古代埃及历史的分期问题，由于传统影响的根深蒂固和欧洲中心论的歪曲，也并非得到完满的解决。因此，全面地掌握古埃及年代学的发展和新的成就，科学地解决古埃及历史的分期问题，关系到我们如何进一步完整地揭示古埃及历史发展的基本规律，从而加强和提高我们的古埃及史研究水平的重大问题。一、古埃及年代学的特点及其断代的依据和方法作为历史科学研究的首要条件之一，就是历史年代的纪年。任何一个历史事件，任何一位历史人物及其活动都离不开具体的历史年代。所以，在世界各国，历史上都有其一定形式的历史纪年法。所谓年代学，简单地说，就是对历史事件和历史人物活动的时间的计算方法，或者说，排列时间顺序的方法。对于研究历史而言，年代学要按照历史事件或历史人物活动发生的先后，或者时间的间隔，排列出事件的发展顺序及其相对或绝对的日期。当然，除了历史学之外，天文学、地质学、古物学等许多学科也离不开年代学。古代埃及的年代学，令人头痛的是，历史事件的年代记载和时代的划分往往不统一。同样一个历史事件，或者一个朝代，往往有几种不同的年代纪年或者不同的时代长短，特别是时间越早，断代的分歧就越大，往往相差数十、数百甚至数千年。我们以古埃及第一、二王朝的时间为例，可以看出各家不同的时间断代和纪年：布雷斯特德（Brested）：         公元前３４００―２９８０＝４２０年霍尔（Hall）                    公元前３５００―３１９０＝３１０年韦戈尔（Weigall）               公元前３４０７―２８８８＝５２０年（５１９？）德利奥通（Drioton）范迪尔（Vandier）               公元前３１９７―２７７８＝４１９年休厄尔（Sewell）                公元前３１８８―２８１５＝３７３年弗兰克福特（Frankfort）         公元前３１００―２７００＝４００年海斯（Hayes）                   公元前３２００―２７８０＝４２０年爱德华兹（Edwards）             公元前３１００―２６８６＝４１４年［①ａ］不仅早王朝时代，即便是古王国、中王国甚至新王国时代的年代学，往往也还有不同程度的差异。所以，古埃及的年代学至今仍困扰着埃及学者和古埃及史的教学与科研工作。何以如此？原来，古埃及的历史纪年既与现今流行的所谓基督诞生纪年不同，又与古希腊的奥林匹克纪年相异。在古代埃及，历史的纪年并不是以某一事件为起点，系统地长久地延续记载下来，而是以某一国王的暂短统治时间为单位，以其某一突出或重要事件为依据，单独地或系统地记载年代。例如，我们在《巴勒摩石碑》上可以见到某王朝、某王、某年的“两地统一”，“登极”、“祭荷鲁斯”、“塞德节”等等的记载。从碑文上的第二王朝起，我们常常看到某王统治的第×年的第×次的“计算”（“清查”），即通常的二年一次的对土地、牲畜或黄金的清查。此外，在某些文物上，往往也铭记了国王的重大行动或成功的事件。如第１王朝登王的一件象牙板铭文，记录了“第１次击杀东方人”的事件。在新王国时代，摩塞挡案中保存下来的租用女奴和土地买卖的契约，分别标明阿蒙霍特普在位的×年×月。在西底比斯的阿蒙霍特普三世王宫废墟中发现的一件陶器器皿上的标签，注明的日期可以表明他的统治年代至少到他即位的第３８年。［②ａ］除了碑铭、文物外，在神庙墙壁上，墓铭传记中，法老的告示以及其他石刻和纸草上书写的王名表上，都可以见到各种年代的记录。特别是新王国时代编纂的阿拜多斯王名表、萨卡拉王名表、卡那克年代记以及都灵王名册等记录了某些王朝的国王名字及其在位年代。著名的《图特摩斯三世年代记》详细地记录了第１８王朝图特摩斯三世远征亚细亚的编年史。古埃及周边国家的考古和文献资料，以及在埃及保存下来的邻近国家外交关系的档案材料也提供了有关年代学的某些重要依据。在埃及南方的努比亚地区发现的某些法老的铭文，记录了埃及人不同时期入侵努比亚的年代。亚述的里木（Limmu）纪年法，即以“名年官”的年代记年，提供了亚述王萨尔马纳撒尔一世大致与埃及的拉美西斯二世等王为同一时期的纪年，因而由此还可推测出其曾祖父阿淑尔・巴利特是埃及阿蒙霍特普四世的同时代人。阿玛尔纳档案库保存了埃及与西亚国家外交关系的档案，其中，第２６号书简是米丹尼的图什拉塔（Tushratta）给埃及王后梯依的表示友好关系的信；第７４号和其他一些书简涉及了毕希罗斯国王赖布・阿狄向阿蒙霍特普三世和四世的求援申诉的内容。［③ａ］这些外交档案对研究上述诸王和王后的活动年代，无疑是提供了确凿的年代证据。此外，在赫梯和埃及分别保存下来的《赫梯王哈吐什尔与埃及王拉美西斯二世同盟条约》，一开始就标明了条约的签订日期是拉美西斯统治的第２１年冬季２月第２１日。最后，还要提到的是古典作家提供的资料。希罗多德的《历史》，狄奥多拉斯的《历史丛书》等著作，其中的一部分专门记述了古埃及的历史，包括了古埃及帝王的世系，重要事件及其年代。特别值得提到的是埃及僧侣马涅托（公元前３世纪）用希腊文写作的一部《埃及史》，它记述了埃及３１个王朝诸王的世系、历史事件和统治年代。但遗憾的是，目前我们所能见到的，仅仅是保存在早期基督教编年史家著作中的各王朝诸王名单及其统治年代，或者是马涅托著作某些部分的少数片断。所有上述的年代学材料，对于我们确定各个王朝的世系及其诸王的统治年代，研究各王朝的国王的活动日期及其重大历史事件，无疑是具有重要的价值。但是，由于某些资料的不同程度的破损，或者记载上的差异，甚至被篡改，提供的历史纪年往往有很大的出入或者是错误。以第６王朝的珀辟一世统治的年代为例，都灵纸草记载为２０年；阿拜多斯和萨卡拉王名表分别为３４和３６年；马涅托为５３年。而现代学者断定的珀辟一世的统治时代也是五花八门，有的是３４年，也有３９年或者４９年。［①ｂ］后者接近于马涅托的年代。又如，关于第一、二王朝年代的总计，虽然各家依据了巴勒摩石碑和开罗残片等资料，但由于使用了不同的运算方法，往往得出不同的年代。除了前面列举的三百余年、四百余年和五百余年的数字之外，甚至还有的计算为２９５年（W.Helck）。《剑桥古代史》的第１卷断代的公元前３１００―２６８６年的总数４１５年，包括了１７个王的几乎２４年半的平均统治年代。［②ｂ］除了上述的考古文物、文献等资料外，对于埃及年代学来说，最重要的还有天文学年代。由自然界的天体运行的观测得来的天文学年代，并以此作标准确定的历史纪年，则可以提供出更准确的记录。正如有的学者所说的，埃及年代学由现代学者，大部分借助于从天文学上现象的偶然事件确定的一、两个固定的点向前或向后来规定。［③ｂ］古埃及的历法，最初似乎是采用阴历，一年为３５４．３６天，主要是与宗教活动相联系。但是，与此同时，还有几种另外的历法。埃及人最初把一年分为１２个月，每月３０日，一年共３６０日。后来，大约在公元前４０００年代以后，他们在原有的历法的基础上，又增加了５日，以３６５天为一年。这种３６５日历法的确定和农业民族的生活习惯以及农业生产与尼罗河的泛滥规律紧密相关。因此，他们又把一年分成了三个季度：第一季为“阿赫特”（Akhet）或“泛滥”季度，尼罗河水开始涨满田野（在孟斐斯的每年第７月第３周）；第二季为“派罗耶特”（Peroyet）或“出来”季度，尼罗河的水势减少，土地露面，人们从事耕作，而植物幼芽萌生；第三季为“邵穆”（Shomu）或“不足”季度，进入尼罗河低水位季节，收割庄稼，贮存粮食，直到下一次的尼罗河泛滥的来临。埃及的这种民用历，尽管具有实用的价值而长期流行，但是，实际上并不完善。它和天狼星定期出现的自然历，１年相差１／４天，４年便误差１天，直到１４６０（４×３６５）年之后为一个周期，通常称为“天狼星周期”，或按其神名称为“索西斯周期”。［④ｂ］在周期年，便会出现日出、天狼星升空与尼罗河泛滥同时发生的现象。在埃及的古文献中，关于天狼星偕日同升的现象的记录，给予我们以科学的，准确的纪年。这样的现象，我们可以举出第１２王朝塞索斯特里斯三世统治的第７年为例。在这一年中，天狼星或索西斯星偕日同升的现象被记录在民用历的３６５天的８月１６日。而这个日子就可以作为确定中王国时间及其以前时期的关键日期。由于这个历法与真正的天文学上年代有关，按规律的，定期的移动，所以，塞索斯特里斯三世的这一年被确定在公元前１８７６和１８６４之间，但多数人赞同为１８７２年。［①ｃ］自第１２王朝的塞索斯特里斯三世的先辈统治以来，总计共１２０年，而都灵王名册记载的第１１王朝的年代共１４３年。如果我们由塞索斯特里斯的公元前１８７２年向前追溯并确定第１１王朝的开端为１２０＋１４３＋１８７２＝２１３５年的话，那么与我们在后面将要采用的公元前２１３３的年代（《剑桥古代史》）仅仅有很少的误差。如果我们以此再向前推算的话，第１１王朝与赫拉克利奥坡里斯的第１０王朝年代的开端仅仅差２―３年，而第９王朝的统治者被铭刻在纪念物上的仅仅有２名，或者不超过三、四名，那么，在第一中间期其统治的时间不超过二、三十年。由此，我们可以推测第８王朝末或第９王朝初的年代（２１３０＋３０）大约为公元前２１６０年，可能不会有太大的误差。［②ｃ］当然，也并不排除其他的计算方法和年代。随着现代科学的发展，一些先进的技术被应用于年代学的研究上。特别是因为时代的遥远，文献和考古资料的不足和差异，借助于Ｃ［１４］（碳１４）或放射性碳断代的方法也是十分必要的。所谓Ｃ［１４］或放射性碳断代法，就是根据生物体内的Ｃ［１４］或放射性碳衰变成氮的多少而测定年代的方法。原来，生物体内部都含有放射性碳或Ｃ［１４］，而且其体内的Ｃ［１４］的浓度与大气中的Ｃ［１４］浓度平衡，但这些含碳物质一旦停止与大气的交换，即生物的死亡，其Ｃ［１４］则按衰变规律逐渐减少，通常以其半衰期为标准。所谓半衰期，即放射性的物质衰变一半的时间，原定为５５６８±３０年，后来修正为５７３０±４０年，但前一年代仍在使用。因此，只要测定出标本中的Ｃ［１４］减少的程度，就可推算出它死亡的年代。但是，适合于使用放射性碳测定的物质必须是有机物，如木材、木炭、谷物、贝壳、骨头等。这种测定法的时间有效性通常是在５００―５００００年之内。因此，Ｃ［１４］测定法对于整个埃及史，包括史前埃及都有其使用价值。用放射性碳断定古埃及的年代，近年已有多人测试过，并且有人作了综合性的计算。但有的计算与传统上的年代出入较大，甚至相差几百年。现根据美国学者哈森等人整理的Ｃ［１４］的断代（选择部分数据）和概算的历史年代与《剑桥古代史》的历史年代纪年作对比，列表如下：［③ｃ］（附图  {图}）由上表可见，哈森等人整理的Ｃ［１４］测定的年代接近传统上的年代，为重建埃及年代学提供了又一科学依据，不失为年代学纪年方法之一，但其某些数据也存在差距。究其原因是多方面的：部分地可归因于测试标本的混淆。而且同一个历史人物的年代，由于测定标本的不同，往往也会得出不同的年代数据，如第１２王朝的塞索斯特里斯二世和三世的年代就各有不同的测定。这种现象，反过来又给年代学的研究带来了麻烦。最后，就前王朝文化所特有的顺序年代法（Ｓ．Ｄ．）作一说明。“顺序年代法”不是采用绝对年代，而是用相互有关的事物对比的相对年代来计算，特别是在Ｃ［１４］测定法发明以前，还是十分必要的。顺序年代法是由Ｆ．皮特里发明的，当他发掘了涅伽达和巴拉斯的史前大墓地和数以千计的墓穴时，便在１９０１年确立了前王朝历史的顺序年代。这个体系是以墓中发现的一系列有一定特征的罐钵等陶器的相比较为基础，对前王朝陶器的发展和演进划分为５０个阶段，把它分组编号为Ｓ．Ｄ．３０―８０。在这５０个阶段以前的Ｓ．Ｄ．１―２９暂时空下来，作为将来要发现的前王朝文化以前的更早些阶段文化的顺序年代。前王朝的Ｓ．Ｄ．３０―８０的５０个阶段，又进一步组合成两个主要部分：前一部分为Ｓ．Ｄ．３０―３７；晚后一部分为Ｓ．Ｄ．３８―８０。最后，皮特里确定王朝时期的开始为Ｓ．Ｄ．７６，因而，将后一部分的Ｓ．Ｄ．８０改为Ｓ．Ｄ．７６，即前王朝阶段在Ｓ．Ｄ．７６结束。但是，据现代学者的进一步研究，第一王朝的开始，又修订为Ｓ．Ｄ．６３。皮特里的顺序年代法至今仍然有效，但是，顺序年代法的体系需要修正。特别是因为皮特里划分的Ｓ．Ｄ．的两个主要陶器类型的时间排列并不科学。皮特里把白线陶的时间排列非常短，定为Ｓ．Ｄ．３１―３４，但事实上它一直延续到Ｓ．Ｄ．３８，甚至还有许多延续到更晚的阶段。对于晚后的这一阶段，皮特里以波浪形把柄陶器的出现和流行作为具有特征的、标准的陶器。但是，他的这个排列顺序时间的假定，也因不适当而被改变。他第一次修正他划分的，已知的前王朝文化为３个发展阶段：阿姆拉（Ｓ．Ｄ．３０―３７）、格尔塞（Ｓ．Ｄ．３８―６３）和赛迈因（Ｓ．Ｄ．６４―７６）。然而，现今多数学者只保留了前两个阶段，抛弃了赛迈因阶段，因为它主要是原始王朝时期，同时，把前王朝文化的两个阶段称为涅伽达文化Ⅰ（阿姆拉）和涅伽达文化Ⅱ（格尔塞）。［①ｄ］综上所述，古埃及年代学可以通过不同的依据，采用不同的方法和手段来测试和确定历史上的不同事件和人物活动的不同年代。也正因为如此，古埃及历史上的年代，特别是其早期，至今不可能有一个完全准确的，统一的年代。二、古代埃及史的传统分期的局限性与综合分期法年代学是历史研究的基础和条件之一，它给历史发展的时间和事件的先后顺序提供了明确的界线，但是历史的发展不仅需要排定其时间和顺序，而且还需要将其某些现象进行系统地整理，归纳分类，洞察事物的本质内涵，揭示其内在的因果关系和发展规律，将社会历史的发展划分成若干阶段。古埃及历史的分期问题，在古代已引起了人们的注意。古代埃及的历史学家马涅托是第一位对古埃及史进行系统分期的人。他根据不同地方出身的，不同世系的王室家族，把整个埃及史划分为３０或３１王朝，又将这些王朝分成３大部分，即３卷，包括：１―１１王朝；１２―１９王朝；２０―３０／３１王朝。古罗马编年史家犹赛比乌斯的《年代记》写道：“根据马涅托的埃及史来看，他撰写了他的报导分３卷。这些部分有神、半神半人、亡灵和统治埃及直至波斯王大流士为止的人王”。［②ｄ］马涅托的《埃及史》分期的开创性工作，具有重大的价值。但是，他把人王追溯到神话传说的系统上，显然是荒诞无稽的。到了近代，德国的埃及学家列普修斯以马涅托的王朝世系和３大部分为依据，把古代埃及史分为古王国、中王国和新王国３大段。而英国埃及考古学者皮特里的史前埃及考古学系统的创立，填补了前王朝文化的内容，进一步充实了古代埃及史的历史分期，形成了系统的，比较完整的古代埃及的历史分期法，一直通行到现在。但是目前通用的古代埃及史的分期法仍有其一定的局限性和不足之处。这表现在：第一，仅仅以王朝世系的继承和排列为依据，划分成古（王国）、中（王国）、新（王国）王朝自然发展的３大段，实际上仍然是单纯的王朝史，没有考虑到社会发展的不同阶段，国家形态发展的不同类型和文化发展上的不同特点，不能体现出丰富的历史发展的本质的内在联系和社会、文明和国家演进的不同阶段与规律性；第二，古埃及史的分期往往以前王朝文化为开端，以公元前３３２年马其顾的亚历山大征服埃及为终结，包括了前王朝、早王朝、古王国、中王国、新王国和后埃及几个主要发展阶段。但是，排除了托勒密王朝和罗马统治埃及的历史阶段。往往把这一阶段的历史，或者划分到希腊化和罗马史的范畴，或者让其独立，成为法老王朝以后的希腊、罗马统治时代的埃及史。这种传统的分期法，我们从上一世纪末的法国马斯帕罗的《古典东方人民史》（１８９５―１８９７）和本世纪初的美国布雷斯特德的《埃及史》（１９０５）中已经明显地见到。近年出版的法人Ｎ．格利迈尔的《古代埃及史》（１９８８，英译本１９２２）和英人Ｂ．Ｊ．肯普的《古代埃及，文明的剖析》（１９８９）同样坚持了这个传统。尤为突出的是，美国Ｗ．Ｌ．兰格编的《世界史百科辞书》明确标明埃及的古代史至公元前３３２年，同时，把托勒密王朝列入“希腊化世界”中，以罗马的征服为结束。［①ｅ］这种传统的分期法，显然是不完整的，割裂了埃及本民族的历史的发展过程。特别是把数百年的马其顿、希腊和罗马统治埃及的历史划到征服民族的历史发展中，成为征服者历史的一部分，显然也是不公正的。其所以如此，一方面是受到了马涅托的分期法的影响。但是，要知道马涅托生活于公元前４世纪末至３世纪，处于托勒密王朝时代的初期，他的《埃及史》也只能写到亚历山大之征服。另一方面，西方作者的“欧洲中心论”的史学观，也影响了他们正确划分埃及史的发展阶段。现代的埃及学应该批判陈腐的“欧洲中心论”的观点，摆脱传统史学的束缚，保留其合理的有效的部分，以马克思主义的社会形态学说为指导，以埃及学的新成果为依据，修改、补充和完善古埃及史的分期问题，确立一个系统的，完整的古埃及史的新体系。古代埃及史研究的对象传统上包括史前埃及和法老埃及两大阶段，但主要是法老埃及时代。古埃及史分期的原则，首先要考虑法老埃及时代的社会性质。从马克思主义的社会形态学说来看，古代埃及国家只能是奴隶制社会。恩格斯明确指出：“奴隶制是古代世界所固有的第一个剥削形式”，也是“文明时代三大时期所特有的三大奴役形式”之一。［②ｅ］即便是后来的征服者，也没有改变这样一种社会性质。其次，要考虑到国家的形态及其发展特点。近年来，国外在这一方面的研究已取得了新的成就。Ｕ．Ｍ．贾可诺夫关于“诺姆国家”、“地域王国”和“帝国”的国家类型的概念，［③ｅ］完全符合古埃及国家的发展的实际。最后，不能忽视埃及国家在世界地理位置上的特殊性。人们往往强调其所谓闭塞性。实际上，埃及并不孤立于世界之外，她东临西亚，北濒地中海，既是近东国家之一，又是地中海沿岸国家，当然，又是非洲大陆的重要成员，所以，古代埃及在其长期历史发展中，不断受到外来民族和文化的影响。而异族对埃及的征服和统治，特别是希腊、罗马征服埃及的历史，理所当然的，是埃及历史的一部分。根据上述几项基本原则，我们考虑，古代埃及的历史分期应该分成以下若干发展阶段：１．原始社会或史前时代。它是从古埃及人之诞生起，直至原始社会或史前时代的末期。２．阶级和国家的形成。通常属于考古学上的前王朝文化时代。前王朝文化从新石器或铜石并用时代的巴达里文化开始，经历了涅伽达文化Ⅰ和涅伽达文化Ⅱ各阶段。这个时期，古埃及社会氏族制度解体，国家开始形成。最初形成的国家是城市国家，或称“诺姆国家”，是国家发展的早期形态。３．奴隶制统一王国的形成与分裂。其中包括３个发展阶段：①．埃及统一国家的开端，由城市国家向专制主义统一王国的过渡。从公元前３１００年的那尔迈的统一开始，经过了第１王朝和第２王朝，即早王朝时代，使上下埃及的统一巩固下来。②．统一王国的确立与奴隶制的专制主义君主制度的形成。经过早王朝时代４００余年的发展，到了古王国时代，埃及形成为统一的，中央集权的，强大的专制主义王国，出现了王室、贵族、寺庙的奴隶制大农庄。③．统一王国的分裂与第一次社会大动乱。古王国时代末期的阶级斗争导致了国家的分裂，进入所谓第一中间期。４．埃及王国的发展与衰亡。这个时期包括２个阶段：首先是国家的再统一和中王国的确立。新的王朝力图削弱地方势力，实施行政改革，发展社会经济，进入了古典时代。但是不久，由于第２次社会大动乱和希克索斯人的入侵，埃及王国终于衰亡了。５．奴隶制帝国的形成和霸权时代。埃及第１８王朝国王驱逐了希克索斯人的统治，并向西亚、努比亚扩张。很快形成了版图空前的大帝国。帝国的霸权时代，埃及奴隶制经济空前发展繁荣起来。６．帝国的分裂、复兴与衰落。这个时期通常称为后埃及时代，或者包括第３中间期。从第２１王朝至３０／３１王朝，除了中间的暂短复兴外，基本上处于国家的分裂和衰落的时代，特别是商品货币关系的发展，导致社会严重分化，直至被亚述和波斯帝国所侵占。７．托勒密王朝与罗马的统治。从公元前３３２年马其顿的亚历山大征服埃及后，马其顿、希腊人在埃及建立了托勒密王朝，但是，公元前３０年，罗马人征服了埃及并代替了托勒密王朝的统治，直至公元６４１年阿拉伯人的最终征服。在罗马帝国统治时代、特别是拜占廷帝国时代，埃及奴隶制逐渐衰落，进入了封建化时代。下面，我们将以马涅托的王朝体系和分期为基础，结合古埃及社会发展形态和国家形态发展的特点，根据埃及年代学的纪年（采用《剑桥古代史》简称ＣＡＨ的年代），对古代埃及史进行全面的，综合性的历史分期，列表如下：（附图  {图}）在上述综合分期年表中，需要作些说明的是，第一、二中间期的“社会大动乱”的问题，在国内外的著作和教材中，还存在着不同的看法，需要作进一步的研讨。但是，我们在《世界上古史纲》中，已经作过论述。［①ｆ］［本文作者刘文鹏，１９３１年生，内蒙古民族师院世界上古史・埃及史研究所教授。］①ａ埃默里：《上古埃及》（W.B.Emery,Archaic Egypt），哈尔蒙德斯瓦特１９６３年版，第２８页；《剑桥古代史》（The CambridgeAncient History），第１卷第２分册，１９７１年版，第９９４页。②ａ奥尔德雷德：《埃及人》（CAldred,The Egyptians），泰晤士・赫德森１９８７年版，第９页。③ａ法因根：《考古学上的古代中东史》（J.Finegan,Archaeological History of the Ancient Middle East），韦斯特伍出版社１９７９年版，第２８５页。①ｂ邦逊：《古代埃及百科辞典》（M.Bunson,The Encyclopedia of Ancient Egypt），纽约牛津１９９１年版，第７０页；默南：《古代埃及指导》（W.J.Murnane,The Guide to Ancient Egypt），纽约１９８３年版，第３５２页；《剑桥古代史》第１卷，第２分册，１９７１年版，第９９５页。②ｂ《剑桥古代史》，第１卷第１分册，１９８０年版，第１７５页。③ｂ奥尔德雷德：《埃及人》１９８７年版，第１０页。④ｂ法因根：《考古学上的古代中东史》，１９７９年版，第１８２页。①ｃ《剑桥古代史》，第１卷第１分册，１９８０年版，第１７４页。②ｃ《剑桥古代史》，第１卷第１分册，伦敦１９８０年版，第１７４页。③ｃ哈森・罗宾逊：《古代埃及的高精确放射性碳的时间测定及其与努比亚・巴靳斯坦和美索不达米亚的对比》，《古代》（F.A.Hassan&S.W.Robison,High-precision Radiocarbon Chronometry of Ancient Egypt,and Comparisons with Nubia,Palestine and Mesopotamia,Antiquity.）第６１卷第２３１期，１９８７年，第１２４页。①ｄ《剑桥古代史》，第１卷第１分册，１９８０年版，第４６３―４６５页。②ｄ马涅托：《埃及史》（Manetho The History of Egypt.The Loeb Classical Library），１９４８年版，残片１，第３页。①ｅ兰格：《世界史辞书》（W.L.Langer,An Encyclopedia of World History），伦敦１９６８（１９４０）年版，第３５、４０、９６、９７页。②ｅ《马克思恩格斯选集》，第４卷，人民出版社１９７２年版，第１７２页。③ｅＵ．Ｍ．贾可诺夫Ｂ．Ａ．雅各布森，《“诺姆国家”、“地域王国”、“城邦”和“帝国”》（汪连兴译），《古代世界城邦问题译文集》，时事出版社１９８５年版，第８０页以下。①ｆ世界上古史纲编写组：《世界上古史纲》上同，人民出版社，１９７９年第２８７―２９１，２９４―２９６。＊, 类型选项:[\\'History\\', \\'Politics\\', \\'Military\\', \\'Education\\', \\'Law\\']\"}, {\"role\": \"assistant\", \"content\": \"History\"}]', '[{\"role\": \"system\", \"content\": \"你是一个文本分类领域的专家，你会接收到一段文本和几个潜在的分类选项，请输出文本内容的正确类型\"}, {\"role\": \"user\", \"content\": \"文本:上海航天AEROSPACE SHANGHAI2001 Vol.18 No.2 P.24-28FY-1C卫星空间粒子成分监测器及其探测结果王世金\\u3000 朱光武\\u3000 梁金宝\\u3000 张微\\u3000 李保权\\u3000 舒伟民摘\\u3000要：简要介绍了FY-1C星空间粒子成分监测器的任务目标、工作原理、创新特色及在轨探测结果。空间粒子成分监测器用于卫星轨道空间的带电粒子辐射监测，为卫星的在轨安全和抗辐射加固设计服务。监测器在世界上首次实现用1套传感器完成对高能电子、质子、α粒子至铁离子的全成分监测，使我国首次获得了870km高太阳同步轨道全空间的各种重离子分布、质子能谱分布和电子通量分布，捕捉到大量的地磁暴和太阳质子事件，获得一批重要的探测成果。关键词：监测器；空间粒子；地球辐射带；太阳质子事件；磁暴分类号：V520.6\\u3000文献标识码：A文章编号：1006－1630(2001)02－0024－05FY-1C Space Particle Composition Monitor and the Results DetectedWANG Shi-jin（Center for Space Science and Applied Research, Chinese Academy of Sciences, B eijing 100080, China）ZHU Guang-wu（Center for Space Science and Applied Research, Chinese Academy of Sciences, B eijing 100080, China）LIANG Jin-bao（Center for Space Science and Applied Research, Chinese Academy of Sciences, B eijing 100080, China）ZHANG Wei（Center for Space Science and Applied Research, Chinese Academy of Sciences, B eijing 100080, China）LI Bao-quan（Center for Space Science and Applied Research, Chinese Academy of Sciences, B eijing 100080, China）SHU Wei-min（No.509 Institute of SAST, Shanghai 200240, China）Abstract：It presents in brief the mission, principle, innovation and the re sults detected of the SPM (Space Particle Composition Monitor) onboard FY-1C sa t ellite. The SPM is used to monitor space charged particles, serves orbital satel lites\\' safety and radiation tolerance design. It has been realized firstly in th e world to use a set of sensors to detect high energy electron, proton, alpha pa rticle and all kinds of heavy ions simultaneously. According to the detected res ults of the SPM the space distribution of the heavy ions, proton and electron in sun-synchronous orbit at 870 km altitude have been obtained. A multitude of ma gnetic storm and the solar proton events have also been monitored by the SPM.Keywords：Monitor；Space particle；Earth radiation belt；Sun proton event； Magnetic storm作者简介：王世金(1965-)，男，研究员，研究领域：空间环境及航天器效应。作者单位：王世金（中国科学院空间科学与应用研究中心，北京 100080）朱光武（中国科学院空间科学与应用研究中心，北京 100080）梁金宝（中国科学院空间科学与应用研究中心，北京 100080）张微（中国科学院空间科学与应用研究中心，北京 100080）李保权（中国科学院空间科学与应用研究中心，北京 100080）舒伟民（上海航天技术研究院509所，上海 200240）参考文献：［1］臧振群,古士分,师立勤,等. 航天器异常与空间环境[J].空间科学学报,1998,18(4)：342-347.［2］Julian M W. The national space weather program[R]. Federal Coordinator for Meteorological Services and Supporting Research, FCM-P31-1977, Washington, DC , 1997.［3］Steve Pearson. NASA\\'s space environments and effects (SEE) program [R]. Geor ge C. Marshall Space Flight Center, NP-1999-06-74-MSFC, Huntsville, Al 35812 , 1998.［4］叶宗海. 空间粒子辐射探测技术[M]. 北京: 科学出版社,1986.148 -198.［5］Sawyer D M, Vette, J I. AP-8 Trapped proton environment for solar m aximum an d solar minimum[R]. National Space Science Data Center, NSSDC/WDC-A- R&S 76-06, Greenbelt, MD, 1976.收稿日期：2000年11月17日修稿日期：2001年1月19日出版日期：2001年4月25日, 类型选项:[\\'Space\\', \\'Agriculture\\', \\'Electronics\\']\"}, {\"role\": \"assistant\", \"content\": \"Space\"}]', '[{\"role\": \"system\", \"content\": \"你是一个文本分类领域的专家，你会接收到一段文本和几个潜在的分类选项，请输出文本内容的正确类型\"}, {\"role\": \"user\", \"content\": \"文本:【 日  期 】19960805\\\\t【 版  号 】2\\\\t【 标  题 】闯出困境――羊城铁路总公司改革纪事\\\\t【 作  者 】覃虹\\\\t【 正  文 】\\\\t伴随着公路、民航、水运等交通行业改革力度的加大，素有“铁老大”之称的铁路系统感到危机四起，效益普遍下滑。位于京广大动脉最南端的羊城铁路总公司却因率先参与市场角逐，主动适应建立现代企业制度的需要，１９９５年完成运输收入２４．５亿元，多种经营利润２．５亿元，分别比上年增长１０．８％和２３．５％。到今年７月１６日，实现了连续安全生产１０００天。羊城铁路总公司拥有固定资产７４．６亿元，管辖广东境内６９１公里铁路线。１９９４年３月，曾在广州火车站担任过八年站长的吴俊光出任总经理后，积极寻求国有大型铁路企业深化改革的突破口。科学的管理来自科学的决策。他主持成立了由工程师、经济师、会计师、律师等专家组成的决策咨询组，颁布了《决策咨询工作条例》。决策咨询组组建不到两年，讨论论证决策案３０多项，涉及投资额３０多亿元。深圳铁达电子有限公司经决策咨询组论证后上马，一年后即收回投资。石围塘联运货场方案经决策咨询组修改后实施，节省资金３０００余万元。１９９５年，他们否决的６项决策案，为总公司避免损失４０００多万元。铁路运输长期实行高度计划集中管理，在市场经济面前，严重束缚了自己。羊城铁路总公司推进运输组织改革，自我松绑，放开搞活。总公司对内建立货场公司、集装箱公司、装卸公司等七大公司，为货主提供一条龙的服务，对外则组织路企运营联网，规范、融洽和密切了内外关系。京广铁路南下出湖南，进入粤北山区。这里地质结构复杂，地理形势险峻，桥隧相连。吴俊光九次亲临湘粤交界的坪石至乐昌段考察，与科研人员一道，成功地研制开发了“长大隧道脱轨报警装置”，全面运用于隧道密集的粤北山区，变往日被动抓安全为主动控制安全。与此同时，羊城铁路总公司根据粤北山区旅游资源和自然资源丰富的特点，组建了旅游公司，开通了全国首列旅游公司独立经营的“大瑶山号”高级豪华旅游列车，为铁路客运闯出了一条新路子。, 类型选项:[\\'Military\\', \\'Enviornment\\', \\'Energy\\', \\'Agriculture\\', \\'Politics\\', \\'Space\\', \\'Communication\\', \\'Transport\\', \\'Art\\', \\'Computer\\', \\'Education\\', \\'Mine\\', \\'Medical\\', \\'Literature\\']\"}, {\"role\": \"assistant\", \"content\": \"Transport\"}]', '[{\"role\": \"system\", \"content\": \"你是一个文本分类领域的专家，你会接收到一段文本和几个潜在的分类选项，请输出文本内容的正确类型\"}, {\"role\": \"user\", \"content\": \"文本:【 文献号 】2-524\\\\t【原文出处】《当代作家评论》\\\\t【原刊地名】沈阳\\\\t【原刊期号】200101\\\\t【原刊页号】4～11\\\\t【分 类 号】J3\\\\t【分 类 名】中国现代、当代文学研究\\\\t【复印期号】200104\\\\t【 标  题 】艺术的反思与反思的艺术――尤凤伟长篇小说《中国一九五七》阅读札记\\\\t【 作  者 】吴义勤\\\\t【 正  文 】\\\\t一、关于尤凤伟在我眼中，尤凤伟既是一个具有某种神秘性的作家，又是一个真正突破了文学意义上的“山东传统”与“山东风格”的作家。他的小说总是以出人意料的想象力和创造性给我们以意外的惊喜。那些在“老山东”传统中屡见不鲜的题材、故事、人物、主题，到了尤凤伟笔下就会一无例外地呈现出鲜明的“另类”特征。我这样说，当然并不是为了替尤凤伟在山东文学中排定某种“座次”，更无意于以他的“另类”来否定山东文学的“光辉传统”，我想证明的只是，尤凤伟确实正在引领我们接近一种更为鲜活、更为纯粹的文学理想。这种理想对于面孔过于单调和一统化的山东文学来说无疑是新颖、刺激而生动的。在尤凤伟身上，我们看到，所谓传统与现代、感性与理性、真实与虚构、经验与超验、现实主义与表现主义等等的区分已经变得不再重要，它们浑然一体，构成了尤凤伟所谓“真正的小说”的理想，也构成了尤凤伟的魅力与意义。因此，从这个角度来说，尤凤伟的“另类”是无法用现实主义作家／先锋作家或老派作家／新派作家这类二元对立的概念去解释的。他是混沌的、神秘的、独一无二的“这一个”，他什么都是，又什么都不是，他总是在不断地变化与流动着，我们既无法规约他，也无法武断而简单地命名他。在这方面，其2000年创作的长篇新作《中国一九五七》又为我们提供了一次理解与阐释他的崭新机会。二、“宏大叙事”与“个人叙事”对《中国一九五七》来说，“历史”、“政治”反思的性质以及“宏大叙事”的特征几乎是题目本身就天然规定了的。在时间维度上，\\\\\"1957\\\\\"是一个具有特定政治、历史以及人文内涵的时间概念，它既是特指性的，又是无限性的；在空间维度上“中国”对小说来说几乎是一个无限庞大的整体性地域概念，对“中国”的理解必然要涉及到政治、文化、精神等众多层面。这对一般作家来说无疑是一种艺术上的掣肘与制约。然而，对尤凤伟来说，这种制约倒反而成了一种艺术的恩赐，我们看到，戴着“宏大叙事”的“镣铐”起舞，尤凤伟非但没有为其所累、所伤，反而不知不觉地完成了对其的消解与置换。某种意义上，我们可以说，这种“宏大叙事”与“个人叙事”由对峙关系到互渗关系的转化也正是《中国一九五七》对于我们经验中的“伤痕”、“反思”小说的真正超越性所在。从“宏大叙事”的角度来说，《中国一九五七》当然无法回避对1957年“反右”运动的全方位、立体性的观照，以及对于那段“历史”的真实再现。正如尤凤伟自己所说的：“我希望能真实而冷静地再现那场梦魇般的运动。通过若干‘五七人’的苦难与挣扎、升华与堕落写出这场运动给人们心理打上的印记。”（注：尤凤伟、何向阳：《文学与人的境遇》，《当代作家评论》1999年第2期。）应该说，这样的“宏大主题”对一部小说而言，既是容易的，又是艰难的。容易的是表达对于历史和政治的认知与判断，因为\\\\\"1957\\\\\"的反右运动毕竟是一个既成的历史事件与历史事实，对它的批判、否定与反思可以说已经成了一种“共名性”的理念与常识，而困难的则是如何使这种批判、否定与反思具有艺术意义。亦即如何使小说所进行的“艺术反思”与社会学、政治学或历史学层面上的反思区分开来。我们知道，如果没有这种区分，小说的价值将无从呈现。这里可能牵涉到两个方面的问题：一个问题是小说能否提供区别于常识性的历史与政治判断的“新思想”；一个问题是小说中的“思想”与“艺术”二者之间如何平衡以及何为小说的最终目标。而这两个问题说穿了其实也就是如何突破“宏大叙事”的“共名主题”之拘囿以呈现“个人叙事”的问题。在这方面，尤凤伟显示了他在“宏大叙事”与“个人叙事”之间游刃有余的非凡才能。首先，“历史”原生态的还原。在《中国一九五七》中，对历史真实性的追求是以对于传统历史理念的颠覆为前提的，在这个过程中作家完成了由历史的“判断性”向历史的“体验性”、历史的“事件性”向历史的“过程性”以及历史的“抽象性”向历史的“丰富性”的转变。作家没有采取整体性的宏大“历史”视角，而是从微观的个人化的“视点”切入，以点写面，把历史改写成了零碎的、具体可感的人生片断与人生经验。这样，宏大的政治历史场景被处理成了具体的生命境遇与生存境遇，这既赋予了“历史”以生命性，又感性地还原了历史的原生态。而与此同时，对“历史”虚拟化、意象化与象征化的处理也是作家在《中国一九五七》中消解“宏大叙事”原则的重要方式。在小说中，我们看到，作家在提供和呈现那种整体性的历史图景的同时，又总是把这种整体性的历史图景虚化为一种氛围或背景。也可以说，作家在小说中所要建构和还原的\\\\\"1957\\\\\"反右运动的原生态，其实并不是那种有真正现场感的原生态，而纯粹是一种心理学意义上的原生态。小说中“反右”运动的发生、发展过程始终是在主人公的“个人记忆”里呈现的，作家几乎没有做正面的直接的描写。这也使得，在小说中，虽然整体性的“历史”既是弥漫性的无所不在的“存在”，但它又不是实体的，而是一种精神化或心理化的氛围。在这个意义上，我们不能把《中国一九五七》简单理解成一部传统的现实主义小说，而应把它看成一部纯粹的寓言小说或象征小说。小说四部写了四个不同的地方，但四个不同的地方却有共同的职能，即，它们都是“监狱”，而这不就是对于“1957年”的“中国”的象征吗？“反右”至“文革”，“中国”大地不就是知识分子的一座“大监狱”吗？而“1957年”这个时间概念也同样是具有象征性的，在小说中主人公被强制性地回忆“失去的时间”的细节正是一个隐喻，它寓言和象征了“时间”对于知识分子的灾难性。在这里，\\\\\"1957\\\\\"已经失去了其具体的所指，而成了一个被凝固了的精神意象，成了中国知识分子精神苦刑的一个源头。其次，“裸露思想”的拒绝。许多时候我们都要求小说具有思想性，但在究竟什么是思想性的问题上却存在很多误解。有人以在小说中堆砌“思想火花”、格言警句的方式来营构思想性，有人以宣言、喊叫、议论、说教的方式来强化思想性，有人以对现代哲学教义的搬演与抄录来构筑思想性……这其实都是误入了艺术的歧途。因为，作家终究不是传道士，他同样只是世界的探求者、追问者，而不是真理的代言人。真正的思想性是引领读者一同思索、一同探究、一同警醒、一同“思想”，而不是告知某种“思想成果”、“思想答案”。从这个意义上说，小说中的“思想”从来就不是艺术的添加剂或附属物，它在一部小说中之所以是必要的，本质上正是因为它本就是艺术的一个必不可缺的因素，一个有机的成分。或者说，思想其实也正是艺术化的，它就是艺术本身。也正因此，小说中的思想越是“裸露”，越是直接，就越是偏离了艺术的轨道。尤凤伟显然对此有高度的艺术自觉。我们看到，《中国一九五七》虽然是一部具有深刻思想力量的小说，但是在这部小说中作家恰恰是以对“裸露思想”的拒绝来凸现其思想力量的。作家没有提供空洞抽象的“思想结论”，而是展示了一个丰盈、感性、饱满、充实的“思想过程”。在作家的笔下，历史与政治不再是抽象的教义，而是变成了具体的人生与具体的故事，甚至成了具体的细节与意象。作家对特定的“历史”与“政治”灾难的否定与批判，不是如某些作家习以为常的那样以抒情的或思想的方式直接“讲述”出来，而完全是以形象化的方式呈现出来的。小说写了众多的人物与众多的故事，但小说在任何地方几乎都没有借人物之口来进行思想的展览。在小说中，我们也看不到关于历史、政治以及国家、民族的宏大而形而上的思想追问。相反，小说思索与呈现的似乎倒是那些具体的、形而下的人生问题与精神问题。比如，小说第一部的问题是“时间为什么会遗失”，第二部的问题是“冯俐，你在哪里”，第三部的问题是“蛇会不会毒死自己”，第四部的问题则是“究竟有没有真正的爱情”，这些问题也许不够宏大，也不够形而上，但是它们生动，有活力，有生命性，我们能够从中触摸到个体精神与个体生命的真实体温。再次，“人学”视野的确立。在《中国一九五七》中，作家表现出了对于“历史”真实性的深度追求，这种追求既呈现为历史表象的真实，又更体现为特定历史境遇中人的心灵真实。换句话说，小说不是从历史的视角来书写历史，而是确立了人学视域的历史书写原则。“历史”和“政治”不再是小说的主体。相反，“历史”、“政治”及其引发的灾难在人尤其是知识分子心灵中的投影走上前台，成了小说的主体。这也使得《中国一九五七》在对“真实性”的理解与营构上超越了政治学和历史学意义，而具有了完全的人学意义。小说确立了两条精神线索，一条线索是自我反抗遗忘的战争；一条是道德伦理与政治伦理的战争。正是通过这两条线索，作家把你死我活的政治斗争与历史灾难置换成了个人自我灵魂的搏斗以及道德神话与政治铁律的较量。小说对政治与历史反思的“宏大叙事”被巧妙“悬置”，而人性审问与道德审问则取代政治批判与历史批判成了小说的“个人叙事”。与其说，小说反思的是政治和历史的悲剧，不如说作家反思的是“人”的悲剧、知识分子的悲剧，是知识分子的人格、自尊被扭曲、变形和主动扭曲、主动变形的悲剧。在这个意义上，小说的政治史和历史的价值已经完全让位于对知识分子心灵史和精神史的解剖。在作家的理念中，历史的灾难也好，政治的灾难也好，说穿了仍然只是“人”的灾难。“人”既是这种历史和政治灾难的承受者，某种程度上也同样是这种政治与历史灾难的参与者与执行者。在小说中，我们看到正是知识分子自身的弱点以及人性的残损加剧了政治和历史灾难的酷烈程度。在K大如果没有范宜春的卑鄙与奸诈，至少冯俐这样的知识分子不会卷入这场政治的灾难；在我乐岭如果没有张克楠这样阴险、无耻的知识分子败类，李戍孟、胡公公、高云纯等人的悲剧也不会那么惨烈。设想一下，如果所有的知识分子都是刚正不阿、铮铮铁骨，那么你就很难想象知识分子的灾难会如此迅速如此大面积地扩散与弥漫。而这也是这部小说在政治与历史反思中最为深刻和尖锐的地方，它真正击中了知识分子最为脆弱的部分。某种意义上，我们也可以说，“历史”和“政治”并不是这部小说反思的艺术目标，小说反思的惟一目标其实只有一个，那就是“人”。也正因为这样，我们看到在小说中，所有的“历史”、“政治”的画面都毫无例外地经过了心灵的过滤，变成了“心灵的风景”。三、“人”的失败与“艺术”的胜利某种意义上，小说对于人心、人性开掘的深度其实也就代表了小说的深度。而这恰恰也正是《中国一九五七》的人性力量、美学力量与思想力量的根源。也许与小说对“历史”、“政治”反思的人学视野有关，尤凤伟在这部小说中大展宏图，一气刻画了不下五十个有名有姓的人物，每个人物虽都着墨不多，而且作家使用的也是散点式随机性的笔墨，但每个人物却都个性鲜明具有艺术的自足性。对作家来说，这既是才华与能力的体现，同时也隐含着更深刻的艺术意图。人物的众多以及面目的各异，其实正是为了寓言那场历史灾难的普遍性，是为了突出在那个政治与历史语境中人本身的渺小与无奈。这样，每一个人物既是一个渺小的个体，但又超越自身而成了整体的“类”的一个部分，他们分散在小说的时空中，其实构成的正是一个总体的普遍性的象征，是一代知识分子命运的隐喻。从这个角度说，《中国一九五七》与其说是想建构一个历史与政治的寓言大厦，还不如说是为了建构一个特殊语境中的“人性博物馆”。而这也正是尤凤伟以“个人叙事”的方式达到“宏大叙事”效果的又一例证。虽然，在小说中作家尽力展示的是“人”在与“历史”和“政治”对峙中的失败，但在对人本身的艺术塑造上，小说又恰恰证明的是“人”的胜利。在现象和现实层面上，人是历史和政治的“牺牲”，是毫无疑问的失败者，但在艺术层面上，“人”又是当之无愧的胜利者，是小说最后的赢家。这也是艺术的辩证法。可以说，《中国一九五七》正是在人性辩证法和艺术辩证法的统一中呈现其在“人学”领域的成就的。在《中国一九五七》中，历史、政治的人性化以及人性的政治化与历史化这两条艺术原则是相辅相成、高度统一的。小说的如椽巨笔正是在这两条原则的引领下突入人物的心灵世界与精神世界的。在作家笔下，人物的“精神战争”主要在三个相互纠缠相互联系的层面上展开：一是人物灵魂世界的自我搏斗；二是人物与人物之间的精神较量；三是人物与政治和历史环境的对峙。这三者构成了小说人物的现实生存境遇，也构成了作家所要发掘的人性辩证法的主要内涵。我们看到，在小说中，人性的美与丑、善与恶、自私与坦荡、软弱与坚强，既是泾渭分明的，又是相互交织彼此转化的，它们构成了小说所塑造的三种类型知识分子形象的基色。一种是以冯俐、龚和礼、李宗伦、李戍孟等为代表的坚守人格自尊与信仰原则的知识分子。冯俐以自己的道德伦理去对抗冰冷的政治伦理，不惜慷慨赴死；李宗伦为了“打狗的猎枪不能打人”的人格自尊，自绝尘寰；李戍孟为了自己“书写的权利”宁愿付出生命的代价；而龚和礼为了维护自己的生之原则，宁可“食草”，吃得满嘴绿牙浑身浮肿死去，也不愿做“食蛇”的“野兽”。他们是知识分子中的一极，他们的共同特征是以自我生命的代价换回了知识分子的“人格”的自尊。一种是以高干、张克楠、李祖德、董不善等为代表的苟且偷生、不惜以迫害他人来保全自我的堕落知识分子形象。高干为了讨好管教，不但处处积极表现，还不断打小报告；张克楠为了巴结管教甚至不惜卑鄙地为管教捉笔“剽窃”泰戈尔的诗；而张克楠、李祖德、董不善等人在我乐岭农场阉割残害胡公公、高云纯等人的一幕，可以说既放大了他们人性中的丑恶，也隐喻了知识分子自我阉割的恐怖。这些人是知识分子中的另一极，他们本是受害者，但是他们的知识分子良知却完全被阴暗丑恶的人性淹没，这使他们最终成了统治者的同谋与帮凶，成了对于同类的施虐者与施暴者。再一种就是以主人公周文祥、吴启都、高云纯、苏英、张撰、解若愚、陈涛等为代表的一大批“中间状态”的知识分子。周文祥曾是一个有才华、有抱负、有理想的热血青年，但落入政治的陷阱之后，他就沦入了既不能拯救别人，也不能拯救自我的悲剧境地。虽然他的人性、良知和人格并没有完全泯灭，但是强制性的自我阉割与自我扭曲已经使他一步步地变得妥协、软弱、明哲保身，失去了与现实抗争的能力。在第三部中他的最终成为“食蛇”一族，以及第四部中他和劳改犯们排队“告密”的场景都具有很强的寓言和象征意义。它象征化地展示了知识分子真实的生存心态和精神状态，展示了一代知识分子自我“死亡”的历程。在小说中，三种类型的知识分子都是被作家置放于特殊的生存境遇中刻画的，某种程度上，他们的人性问题其实已经被置换成了生存问题，生与死的选择、求生与本能的冲突使得小说中的人性哲学根本上超越了美丑善恶的层次而突进到了生命哲学与生存哲学的疆域。这方面，第三部中围绕“吃蛇”与“食草”而上演的一幕幕具有象征主义和表现主义色彩的戏剧就是这种生存哲学和生命哲学的集中体现。另一方面，这三种类型的知识分子又不完全是一种对峙和冲突关系，实际上他们还是互文性与互补性的，他们各自构成了知识分子精神与人格的一个侧面，并在某种意义上成了对方的影子或心理潜意识。与“人”的毁灭主题相呼应，“美”的破碎也是小说悲剧性美学力量的一个重要根源。小说的主体当然是反思和书写历史的灾难，但是在这种灾难的边缘我们仍然不时地能遭遇“美”的亮色与闪光。作家对美好事物、美丽人性的寻找与向往不是为了去营构一种虚幻的美之乌托邦，而是为了借这种美好事物的毁灭来反衬历史的灾难，来反思历史的黑暗。因为，美越是纯粹，越是趋于极致，她的毁灭带给人的刺痛才越是尖锐和持久。这大概同样也是一种艺术的辩证法。龙凤伟是一个书写民间传奇的高手，在《中国一九五七》中，“爱情”传奇无疑是最能体现尤凤伟风格的华章。周文祥和冯俐、吴启都和齐韵琴、张撰与王妃、竹川与她的乡村女子，这四对爱情几乎构成了整部小说的情感主旋律，每一对爱情都如泣如诉，每一对爱情也都不缺浪漫、忠贞与甜美。但是同样，每一对爱情也都有一个悲凉的结局。在爱情悲剧降临的那一刹那，绝望弥漫在小说的天空，它激起的是我们灵魂深处经久不息的忧伤。而天真、可爱、善良的小建国的死，以及善于在“地狱”中寻找美与艺术的画家张撰的命运，也无不折射和象征了小说所描写的那个“黑暗的年代”对于美、童真、艺术和人本身无可逃避的巨大毁灭力量。四、“回忆”叙述与文体意识我一直把尤凤伟视为山东最会写小说的作家。他是一个对于小说的叙述、语言、结构有超常敏感的作家，也是一个在艺术上极富想象力与创造性的作家。从“石门”系列到“抗战”系列再到这本《中国一九五七》，无论涉足什么题材，表达什么主题，尤凤伟始终都能保持那种艺术的纯粹性，始终都能让艺术的底色不因“写什么”的变化而褪色。而这绝非是一般的作家所能做到的。如果说，尤凤伟从前的小说因民间性的叙事和传奇性的故事而风格独标，多少有些沾了艺术表现领域陌生性的光的话，那么《中国一九五七》这部在一般作家手下难免会有主题先行、道德说教色彩的政治反思小说能完美地贯彻尤凤伟“真正的小说”的艺术理想，则确实让我们服膺了他卓越的艺术能力。我们当然现在还不能简单地给《中国一九五七》盖棺论定，给它以终极性的评价。但从个人的阅读感觉与艺术感觉出发，我敢说，它是我2000年度读到的最为优秀的小说。说它优秀，不为别的，只为它的艺术，只为它的艺术纯粹性和艺术创造性。其一，“回忆”的叙述学意义。《中国一九五七》是一部在叙述基调、叙述视角和叙述节奏、叙述语式上都非常和谐、非常统一的小说。庞大的题材、众多的人物、流动的地点……这一切对于小说的叙述来说都是非常不利的因素，因为它往往会带来小说视点的混乱和结构的零散。而尤凤伟却有着把劣势变成优势、束缚变成自由的艺术魔力，叙述的难度反而为他的小说增添了摇曳的美感与魅力。尤凤伟在叙述上点石成金的武器，并不神秘，那就是先锋作家特别擅长使用的“回忆”。“回忆”作为主要叙述方式在这部小说中的成功运用确实显示了尤凤伟非凡的艺术匠心，也在技术层面上为小说的成功提供了保障。首先，“回忆”作为一种心理化的方式有助于赋予小说互不相干的时空、故事、人生以一个笼罩性的精神氛围，这实际上也就赋予了小说统一的精神秩序和统一的美学框架。说穿了，“回忆”的功能就是把万事万物皆收拢于心，它能真正超越具体时间、空间的束缚与限制，而给小说叙述以高度自由。其次，“回忆”既是一种主体的叙述方式，同时也正是小说反思政治、历史主题的一种“反思”方式，也就是说正是“回忆”使小说自然而然地具有了“反思”色彩，它是小说从“宏大叙事”走向“个人叙事”的艺术桥梁。在这方面，小说第一部可以说完全是一个天才的艺术创举，作家以“强制回忆”的方式把小说的叙述方式与人生方式重合，取消了形式与内容的界限，真正创造出了一种形式就是内容、内容就是形式的艺术境界。再次，“回忆”使小说具有了统一的主观化叙述视角，它以“世界心灵化”的方式取消了小说叙述的现场感，把小说的真实性问题真正从现实逻辑中解放了出来。小说的叙述也因此更自由、更随意、更富于变化和现代感。其二，无为而为的结构艺术。《中国一九五七》从结构上来看几乎是一种纯粹“非结构”或“反结构”小说。小说共分四部，每部以一个“服刑”地点为标题，内容则是叙述发生在这个地点内的故事，纯粹是空间性的并置，几乎未见任何结构上的安排。然而恰恰正是这种无为而为的“非结构”性小说，让我们感受到了现代小说结构的无穷奥妙。因为，我们知道，当一个艺术品，当它的结构或其他方面成为一个彰显的、触目惊心的“存在”时，往往就意味着这个作品在这些方面出了问题。当然，结构上的“无为而为”，也不是“不为”，而是“为”得自然，“为”得老到，“为”得了然无痕。这也正如我们常说的那句老话，“艺术的最高境界就是无技巧的境界”。但是“无技巧”并不是放任自流，并不是虚无，而恰是“技巧”的升华。表面上，“草庙子胡同”、“清水塘”、“御花园”、“我乐岭”四个地点，相隔万里，彼此并无内在联系，但在小说中我们发现它们其实却是在潜隐结构性上浑然一体、密不可分的。这首先因为，这四个地点既是实在的，又是超现实的，它们有着虚化和象征的内涵，既在空间性上有对于“中国”的整体象征意义，又在功能性上有着“监狱”和“精神囚牢”的象征意味。其次，还在于，这四个空间地点在小说中又是有着鲜明的时间性意义的。空间的排列对应的是时间的流逝，空间其实正是推进故事的发展动力。第一部以狱中生活和K大生活相交织，交待故事的起因。第二部、第三部叙述劳改农场的生活。第四部对人物进行收拢，既是新故事的展开，又是对前面故事与人物的总结。某种意义上，四个空间地点已经具有了代表故事的开端、发展、高潮、结局的逻辑关系与时间关系。再次，与四个空间地点相对应，主人公“我”作为贯串性人物也具有显而易见的结构功能。四个地方实际上代表了主人公精神炼狱的四个阶段，疑惑→焦虑→恐惧→绝望是主人公四个阶段的精神特征，也是小说结构的内在线索。从这个角度来说，我们看到，《中国一九五七》表层松散的结构背后，其实有着内在的精神化的逻辑关系，整部小说仿佛就如音乐的四重奏，内在的旋律扣人心弦，读来令人荡气回肠。其三，虚实相间的文体风格。尤凤伟是一个文体意识极强的作家，在《中国一九五七》中这种文体探索意识更是得到了极大程度的张扬。从叙述上说，这是一部在叙述上充满变化的小说，直接叙述与间接叙述、主观叙述与客观叙述、现场叙述与背景叙述、分析叙述与预知叙述……在小说中是互相渗透、互相侵犯，把尤凤伟的“变化美学”推进到了一个崭新的层次。而主体的叙述方式――“回忆”，在小说中也呈现为多种不同的形态。既有直接的“回忆”（第三部），又有强制性的“回忆”（第一部），既有以文字凝固起来的“回忆”（第二部、第四部），又有对“回忆”的“修正”与“补充”（第二部）。从文体上说，《中国一九五七》更是一个浓缩了的文体实验室，文中有文，小说中有小说，札记、日记、大事记、人物志以及对日记的注释、训诂等等，在小说中欢聚一堂，它们从不同的侧面发挥小说的叙述功能，不仅增强了小说文气的变化与流动，丰富了小说的审美形态，避免了文体上的僵硬呆板与流水账特征，而且为小说以主观叙述的方式营构历史真实性和客观性的努力提供了艺术的可信性。在文体领域，尤凤伟的创造性在于他在文本中对日记、札记、小说等等的嵌入，并不是为文体而文体，并不单纯是出于形式的考虑。实际上，他的文体探索完全是艺术的内在需要使然，它既是小说故事情节发展的必然产物，有时还直接构成了故事与情节本身。我们看到，正是出于对小说第一部中“强制回忆”情节的恐惧，才有了第二部的“日记”、“大事记”以及第四部的“人物志”，因为，它们的功能都同样是为了帮助主人公保持“记忆”。再比如，小说第二部插入《回家》这篇小说中的小说，叙述竹川逃狱回家后在生命最后时刻的故事。这一段故事，对于小说第一人称叙述者“我”来说，它本就是一个盲点，而竹川的儿子竹涛因为年龄太小也不可能把故事讲得条理与完整，况且让一个小孩在小说中直接长篇大论也有违艺术的本性。作家以写小说的方式把这一切呈现出来，既弥补了情节的缺口，满足了读者的期待，又完成了对竹川这个人物的最后刻画，同时还使小说文体具有了动感与张力，真可谓是一石三鸟，极富创造性。而从风格上看，小说以实写虚，又以虚写实，表面上具有现实主义的特征，但是又融入了大量的表现主义与象征主义的因素。一方面，小说以实写具体灾难和具体人生的方式，把整体性的“反右”运动虚写成了一种精神氛围与精神背景；另一方面，在实写具体的苦难同时，又大量使用了变形、夸张、梦境、幻觉、潜意识等等虚化的手法，小说因此而呈现出鲜明的杂糅风格。作家追求的似乎是一种毛茸茸的美学，在这种美学里现实与超现实、真实与荒诞就如一张纸的两面，它们合二为一、难分你我。比如，小说主人公周文祥的四个梦境在虚虚实实之间构筑的正是意蕴丰富的象征意义与潜意识意味，而小说第三部中不仅“蛇”的意象以及蛇与人的关系具有明显的象征性，而且整个这一部分所表现的生活本身其实也就是一个大的生存寓言。其四，语言的冷与热。《中国一九五七》的叙事成就其实最终都是落实在语言层面上的。那种尤凤伟式的语言智慧与语言风格确实为小说增添了特殊的魅力。前面我们已经说到了，《中国一九五七》是一部在叙述上具有某种现代感和先锋性的小说，而这种先锋性直接的载体就是它的语言。尤凤伟的语言是一种蓬勃生动，充满变化、流动和野生气息的语言，口语与书面语、叙述与描写、俗语与方言、说明与追述、有声与无声……在他的小说中和平共处，在刻画人物、推进小说结构等方面都发挥了特殊的作用。而就我的阅读体会而言，《中国一九五七》的语言魅力又主要体现在两个方面：一是语言在冷和热之间的奇妙平衡。小说采取的是主观化的叙述语言，书写的又是悲剧与苦难，那种情感的热度与语言的热度应该是非常强烈的。但在小说中，我们看到作家却并没有使用过去“伤痕”、“反思”小说常用的那种呼天抢地的情感控诉语言，相反，小说的叙述基调是内敛的，作家自始至终都在控制情感、压抑情感，回避着那种外露的、宣泄的、煽情性的文字。这种语言的内敛与节制使整部小说都具有了一种显而易见的冷色调。这种冷色调同时也表现在对于人物的刻画上，小说塑造的是一代知识分子的受难史与心灵史，但小说并没有直接的心理描写与精神分析，而是把他们的灵魂高度具象化、细节化、故事化了。小说没有简单化的直接的语言层面上的道德与情感判断，而总是尽可能地让人物去行动、去表演、去挣扎，从不给他们提供去表白、去宣泄的机会。正如何向阳在与尤凤伟的对话中所说的：“你小说中的人物没有或说极少内心独白，他们都是彻底的行动派，叙述上你也只是让人看到内心历程经验后的结果，小说的兴趣集中在对境况的分析，而不是心理动机的回溯……”（注：尤凤伟、何向阳：《文学与人的境遇》，《当代作家评论》1999年第2期。）作家以冷写热，既吻合小说的反思主题，又以语言之间的强烈反差营构了一种独特的修辞与反讽效果。而小说的思想深度与悲剧力量无疑也在这种“语言”的庆典中得到了强化。二是对汉语美感与表现功能的挖掘。尤凤伟是一个民间语言的大师，和他以往的作品一样，《中国一九五七》对于民间语言的表意、表情与审美潜能的热情使得小说充满了感性、生动鲜活的民间气息。不同的地点、不同的人，不同的口语与方言，在小说中是多音齐鸣、众声喧哗，为我们呈现了一幅生机活泼、丰富多彩的语言景观。某种意义上，小说人物塑造的成功，不仅在于作家在人物塑造方式上独具匠心、富于变化，不同人的出场、历史介绍及结局交待都迥然有别，互不重复，而且也同样得力于作家在人物塑造上语言运用的成功。我觉得，在小说中，作家其实是把人物充分语言化了的，正是这种语言化，使人物成了语言的动物，他们活在自己的语言里，凭借语言区别于他人获得了艺术的自足性。另一方面，对于现代汉语美感的挖掘，在这部小说中也是成就显著。尤凤伟善于把汉语的诗性、隐喻、象征和修辞功能凝结为某种意象化的场面，使语言在动与静、画面与声音的互动中迸发出美感的光辉。比如，在《中国一九五七》中“蛇”、“大水”、“坟茔”、“一根绳”、“火盆地”等等语言意象都是含蓄蕴藉，言有尽而意无穷，是画面感和表意性相结合的典范。再比如，龚和礼吃草的意象、李宗伦自杀的画面等等，都是以“无声”的语言景致来传达“有声”的语言效果，无不包蕴着复杂的情感、深厚的思想，真可谓“此时无声胜有声”，其艺术上的震撼力可谓无与伦比。五、回到尤凤伟本质上，一部小说，境界的高低、品质的优劣几乎是你一眼就能看出来的，虽然在这篇印象式的文字里，我不可能洞穿《中国一九五七》的全部艺术奥秘，但我想，它作为一部优秀作品的地位却是任何人也无法动摇的。对于尤凤伟来说，“艺术的反思”和“反思的艺术”是《中国一九五七》所追求的两个主要艺术目标，但从“艺术的反思”到“反思的艺术”这中间其实本来应有很长的路要走，但尤凤伟却轻松地做到了二者的统一。这是尤凤伟的幸运，也是他艺术能力的体现，更是他“真正的小说”的艺术理想的胜利。说穿了，小说可以是“反思”．是思想，是深度，是形而上，是一切的一切，但它首先必须是艺术品。这话虽朴素，却是真理。从这样的“真理”出发，我得出了对于《中国一九五七》的最后印象：小说是纯粹的小说，作家是纯粹的作家。, 类型选项:[\\'Sports\\', \\'History\\', \\'Agriculture\\', \\'Computer\\', \\'Politics\\', \\'Medical\\', \\'Energy\\', \\'Military\\', \\'Communication\\', \\'Transport\\', \\'Space\\', \\'Education\\', \\'Art\\', \\'Literature\\', \\'Philosophy\\', \\'Enviornment\\', \\'Economy\\', \\'Mine\\']\"}, {\"role\": \"assistant\", \"content\": \"Literature\"}]', '[{\"role\": \"system\", \"content\": \"你是一个文本分类领域的专家，你会接收到一段文本和几个潜在的分类选项，请输出文本内容的正确类型\"}, {\"role\": \"user\", \"content\": \"文本:世界公司跨国兼并依然活跃新华社纽约５月９日电美国一家会计公司最近公布的一份调查报告显示，今年第１季度，在世界范围内进行的公司跨国合并与兼并交易共４９３起，总交易额为２６３亿美元，略低于去年同期的２６５亿美元。报告说，今年首季美国公司到国外进行的兼并５３起，交易额为９・０９亿美元，大大少于去年同期的９５起和８７亿美元；同期，外国公司在美国进行的兼并虽从１９４起减少到１４８起，但交易额从１２８亿美元上升到１５６亿美元。（完）, 类型选项:[\\'Space\\', \\'Medical\\', \\'Mine\\', \\'Literature\\', \\'Transport\\', \\'Law\\', \\'Enviornment\\', \\'Politics\\', \\'Economy\\', \\'Electronics\\']\"}, {\"role\": \"assistant\", \"content\": \"Economy\"}]', '[{\"role\": \"system\", \"content\": \"你是一个文本分类领域的专家，你会接收到一段文本和几个潜在的分类选项，请输出文本内容的正确类型\"}, {\"role\": \"user\", \"content\": \"文本:【 文献号 】1-52\\\\t【原文出处】《文艺理论与批评》\\\\t【原刊地名】京\\\\t【原刊期号】200005\\\\t【原刊页号】139～140\\\\t【分 类 号】J1\\\\t【分 类 名】文艺理论\\\\t【复印期号】200101\\\\t【 标  题 】“江泽民文艺理论理论研讨会”综述\\\\t【 作  者 】张燕鹰\\\\t【 正  文 】\\\\t2000年6月22日，北京市艺术研究所在湖广会馆举办了“江泽民文艺理论研讨会”，着重学习和讨论了江泽民总书记不久前提出的“三个代表”的重要思想。与会者首先就江泽民文艺理论形成的历史背景进行了论述。黄楠森说：马克思、恩格斯没有对经济、政治、文化三者的关系进行过系统论述。毛泽东同志在《新民主主义论》中第一次从政治、经济、文化三个方面考虑问题，江总书记最近在“三个代表”中特别突出地提到中国共产党要代表中国先进文化的前进方向，我认为，中国社会主义经济建设和政治建设的整个社会实践，应中国先进文化前进方向的主要来源和动力。陈尚志从两个方面论述了江泽民同志的文化理论。首先，江泽民同志明确提出具有中国特色社会主义文化的概念，并把文化建设和经济建设、政治建设并列为党的基本纲领的重要组成部分，这是对马列主义、毛泽东思想、邓小平理论的一项重大突破、充实和创新。第二，强调党始终代表先进文化的前进方向，是突出了文化在建设有中国特色社会主义事业中的重要地位和作用，进一步明确了文化建设的基本方针。从文化建设的角度讲，就必须把文化提高到与生产力具有同等重要的地位和作用。建设有中国特色社会主义的文化，并代表其发展发展必须坚持马列主义、毛泽东思想和邓小平理论的指导地位，必须确定文化建设是培养德、智、体、美全面发展的社会主义的建设者和接班人的目标，必须使所有文化活动都做到符合“二为”社会主义文化的方向，必须是民主的、科学的、大众的文化，是面向现代化，面向世界、面向未来的文化。参加会议的同志们强调了“三个代表”重要思想对目前文化建设的现实意义。涂途认为：江泽民同志在我们面对新时代、面临新问题的情况下，提出“三个代表”的思想，给我们提出了新的任务。生产力、文化和广大人民利益三个内容，是新世纪全世界关注的问题，在全球化的时代、在经济一体化的时代、。在社会科技化的时代、在政治多极化的时代提出“三个代表”，具有全球意义。社会生产力是生产关系中最活跃，最富革命性的因素，在社会发展中最终起决定性的作用，但并非决定社会变革的唯一因素。文化中起主导作用的意识形态对生产力有积极的反作用，它们之间有着辨证的关系。“三个代表”的提出，是对马列主义、毛泽东思想和邓小平理论的发展。徐世丕在发言中指出：江泽民同志“三个代表”的提出，是在新时期对邓小平理论的丰富和新的发展，有着重要的意义。江泽民同志的很多有关文化的论述，如主旋律与多样化等，指导着新形势、新时代下对“二为方向”和“双百方针”的实践，具有鲜明的时代特色和实践特征。江泽民同志在十五大报告中提出文化是综合国力的体现；在“三个代表”中第一次从执政党建设的高度提出党要始终代表中国先进文化的前进方向，具有创新特征。周传家认为：“三个代表”的提出，给文艺理论工作者提出了新的任务。首先要对文化的概念进行深入的研究。每一个文艺理论工作者和从事文化工作的人，都应该为先进文化的发展贡献一份力量。王能宪认为：江泽民同志关于文化的论述有三个特性。第一是民族性，江泽民曾多次继承中华民族的优秀传统文化，文化是一个民族的灵魂，一个民族之所以在世界上能够独立，最重要的就是他的文化积淀。第二是世界性，江总书记多次强调我们要吸收各个国家、各个民族优秀的文化成果，丰富和发展我们的文化。第三是当代性，这表现在先进性和实践性两个方面。江泽民在最近提出的“三个代表”中特别提出要代表中国先进文化的前进方向，而提到文化时，又总是与我们正在进行的建设有中国特色社会主义事业联系在一起。程曼珍认为：“三个代表”的思想十分重要，但社会上有很多人并不理解，甚至有人曲解，这就要求理论工作者进行认真的研究，进行积极的宣传，要在建设社会主义文化理论的同时，对不良思潮应从理论上予以批评。不但要重视理论研究，也要重视理论对实践的指导。北京市艺术研究所所长秦华生感谢与会者从江泽民总书记最近提出的“三个代表”出发，结合十五大报告中建设有中国特色社会主义文化的论述与当前的文化艺术现状，就江泽民文化理论形成的过程，及其对马克思列宁主义、毛泽东思想和邓小平理论的发展和对新世纪中国的重要指导意义，对文化艺术的发展，对优秀传统文化艺术的继承发扬等，进行了多方面的探讨。他说：新千年伊始，面对全球化浪潮，世界性共产主义实践，人类的进步与面临的难题，江泽民同提出了“三个代表”的重要思想，既高瞻远瞩，推动着中华民族的伟大复兴；又高层建瓴，具有时代性和民族性特征；既有丰富的理论价值，又有实践指导意义。中国共产党人调整思路，不固守成规，敢于理论创新，善于总结经验，又勇于实践探索，一定会在21世纪创造奇迹，出现“东方的文艺复兴”，再现“贞观盛世”。, 类型选项:[\\'Computer\\', \\'Military\\', \\'Art\\', \\'Space\\']\"}, {\"role\": \"assistant\", \"content\": \"Art\"}]']}"
      ]
     },
     "execution_count": 8,
     "metadata": {},
     "output_type": "execute_result"
    }
   ],
   "source": [
    "test_df = pd.read_json(test_jsonl_new_path, lines=True)[:10]    # 取前10条做主观预测\n",
    "\n",
    "def predict(messages, model, tokenizer):\n",
    "    device = \"cuda:0\"\n",
    "    text = tokenizer.apply_chat_template(messages, tokenize=False, add_generation_prompt=True)\n",
    "    model_inputs = tokenizer([text], return_tensors=\"pt\").to(device)\n",
    "    generated_ids = model.generate(model_inputs.input_ids, max_new_tokens=512)\n",
    "    generated_ids = [\n",
    "        output_ids[len(input_ids):]\n",
    "        for input_ids, output_ids in zip(model_inputs.input_ids, generated_ids)\n",
    "    ]\n",
    "    \n",
    "    response = tokenizer.batch_decode(generated_ids, skip_special_tokens=True)[0]\n",
    "    print(response)\n",
    "    return response\n",
    "\n",
    "test_text_list = []\n",
    "for index, row in test_df.iterrows():\n",
    "    instruction = row[\"instruction\"]\n",
    "    input_value = row[\"input\"]\n",
    "\n",
    "    messages = [\n",
    "        {\"role\": \"system\", \"content\": f\"{instruction}\"},\n",
    "        {\"role\": \"user\", \"content\": f\"{input_value}\"},\n",
    "    ]\n",
    "\n",
    "    response = predict(messages, model, tokenizer)\n",
    "    messages.append({\"role\": \"assistant\", \"content\": f\"{response}\"})\n",
    "    result_text = json.dumps(messages, ensure_ascii=False)\n",
    "    test_text_list.append(swanlab.Text(result_text, caption=response))\n",
    "\n",
    "swanlab.log({\"Prediction\": test_text_list})"
   ]
  }
 ],
 "metadata": {
  "kernelspec": {
   "display_name": "Python 3 (ipykernel)",
   "language": "python",
   "name": "python3"
  },
  "language_info": {
   "codemirror_mode": {
    "name": "ipython",
    "version": 3
   },
   "file_extension": ".py",
   "mimetype": "text/x-python",
   "name": "python",
   "nbconvert_exporter": "python",
   "pygments_lexer": "ipython3",
   "version": "3.10.14"
  }
 },
 "nbformat": 4,
 "nbformat_minor": 4
}
